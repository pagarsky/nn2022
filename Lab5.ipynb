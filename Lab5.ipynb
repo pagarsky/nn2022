{
  "nbformat": 4,
  "nbformat_minor": 0,
  "metadata": {
    "colab": {
      "name": "Lab5.ipynb",
      "provenance": [],
      "collapsed_sections": [],
      "toc_visible": true,
      "include_colab_link": true
    },
    "kernelspec": {
      "name": "python3",
      "display_name": "Python 3"
    },
    "language_info": {
      "name": "python"
    },
    "accelerator": "GPU"
  },
  "cells": [
    {
      "cell_type": "markdown",
      "metadata": {
        "id": "view-in-github",
        "colab_type": "text"
      },
      "source": [
        "<a href=\"https://colab.research.google.com/github/pagarsky/nn2022/blob/master/Lab5.ipynb\" target=\"_parent\"><img src=\"https://colab.research.google.com/assets/colab-badge.svg\" alt=\"Open In Colab\"/></a>"
      ]
    },
    {
      "cell_type": "markdown",
      "source": [
        "# Лабораторна робота №5\n",
        "#### з дисципліни \"Нейронні мережі\"\n",
        "#### студента групи КН-31/2\n",
        "#### Пагарського Олексія\n",
        "#### Варіант №7"
      ],
      "metadata": {
        "id": "egerjc4kfBj-"
      }
    },
    {
      "cell_type": "code",
      "source": [
        "N = 7\n",
        "i1, i2, i3 = N - 1, N + 29, N + 59"
      ],
      "metadata": {
        "id": "WMev_uzRuBui"
      },
      "execution_count": 11,
      "outputs": []
    },
    {
      "cell_type": "code",
      "execution_count": 23,
      "metadata": {
        "id": "HtA0NV5Ie4F8"
      },
      "outputs": [],
      "source": [
        "import random\n",
        "import os\n",
        "import pathlib\n",
        "from distutils.dir_util import copy_tree\n",
        "\n",
        "import numpy as np\n",
        "import tensorflow as tf\n",
        "from tensorflow import keras\n",
        "from tensorflow.keras.preprocessing.image import ImageDataGenerator\n",
        "import matplotlib.pyplot as plt\n",
        "import matplotlib.image as mpimg"
      ]
    },
    {
      "cell_type": "markdown",
      "source": [
        "### На основі документу вирішити завдання класифікації зображень їжі для 3 класів з набору даних food101"
      ],
      "metadata": {
        "id": "Ki1ZXZVkNwWv"
      }
    },
    {
      "cell_type": "code",
      "source": [
        "!wget http://data.vision.ee.ethz.ch/cvl/food-101.tar.gz\n",
        "\n",
        "!tar xvf food-101.tar.gz"
      ],
      "metadata": {
        "id": "sZnqBGzffBdk"
      },
      "execution_count": null,
      "outputs": []
    },
    {
      "cell_type": "code",
      "source": [
        "!ls -la food-101/images\n",
        "\n",
        "classes = []\n",
        "for dirpath, dirnames, filenames in os.walk(\"food-101/images/\"):\n",
        "    print(f\"There are {len(dirnames)} directories and {len(filenames)} images in '{dirpath}'.\")\n",
        "    classes.append(dirpath)"
      ],
      "metadata": {
        "id": "gQOPzTpChHxQ"
      },
      "execution_count": null,
      "outputs": []
    },
    {
      "cell_type": "code",
      "source": [
        "dirs = [\n",
        "    classes[i1],\n",
        "    classes[i2],\n",
        "    classes[i3]\n",
        "]\n",
        "classes = [dir.split('/')[-1] for dir in dirs]\n",
        "print(classes)"
      ],
      "metadata": {
        "colab": {
          "base_uri": "https://localhost:8080/"
        },
        "id": "bWQYhozLxQPQ",
        "outputId": "2aa8ddb6-0587-4992-f594-fdb1bbd6288d"
      },
      "execution_count": 28,
      "outputs": [
        {
          "output_type": "stream",
          "name": "stdout",
          "text": [
            "['sushi', 'ravioli', 'seaweed_salad']\n"
          ]
        }
      ]
    },
    {
      "cell_type": "code",
      "source": [
        "for cls in classes:\n",
        "    # print(cls)\n",
        "    for img in os.walk(f'food-101/images/{cls}/'):\n",
        "        copy_tree(f'food-101/images/{cls}', f'./images/{cls}/')"
      ],
      "metadata": {
        "id": "ZwoW-1mpyQ-m"
      },
      "execution_count": 30,
      "outputs": []
    },
    {
      "cell_type": "code",
      "source": [
        "train_datagen = ImageDataGenerator(rescale=1./255,\n",
        "                                   width_shift_range=0.2,\n",
        "                                   height_shift_range=0.2,\n",
        "                                   rotation_range=20,\n",
        "                                   zoom_range=0.2,\n",
        "                                   horizontal_flip=True,\n",
        "                                   validation_split=0.2)\n",
        "\n",
        "train_data = train_datagen.flow_from_directory(\n",
        "    './images/',\n",
        "    target_size=(224, 224),\n",
        "    batch_size=32,\n",
        "    class_mode='categorical',\n",
        "    subset='training')\n",
        "\n",
        "val_data = train_datagen.flow_from_directory(\n",
        "    './images/',\n",
        "    target_size=(224, 224),\n",
        "    batch_size=32,\n",
        "    class_mode='categorical',\n",
        "    subset='validation')"
      ],
      "metadata": {
        "colab": {
          "base_uri": "https://localhost:8080/"
        },
        "id": "UNZM8JHnhSpl",
        "outputId": "02c827d5-729c-4ae5-bd3f-e886a29b83b3"
      },
      "execution_count": 35,
      "outputs": [
        {
          "output_type": "stream",
          "name": "stdout",
          "text": [
            "Found 2400 images belonging to 3 classes.\n",
            "Found 600 images belonging to 3 classes.\n"
          ]
        }
      ]
    },
    {
      "cell_type": "code",
      "source": [
        "model = tf.keras.Sequential([\n",
        "  tf.keras.layers.Conv2D(20, 3, activation='selu', input_shape=(224, 224, 3)),\n",
        "  tf.keras.layers.MaxPool2D(),\n",
        "  tf.keras.layers.Conv2D(15, 5, activation='selu'),\n",
        "  tf.keras.layers.MaxPool2D(),\n",
        "  tf.keras.layers.Conv2D(10, 7, activation='selu'),\n",
        "  tf.keras.layers.MaxPool2D(),\n",
        "\n",
        "  tf.keras.layers.Flatten(),\n",
        "  tf.keras.layers.Dense(3, activation='sigmoid')\n",
        "])\n",
        "\n",
        "model.compile(\n",
        "    loss=\"categorical_crossentropy\",\n",
        "    optimizer=tf.keras.optimizers.Adam(),\n",
        "    metrics=[\"accuracy\"]\n",
        ")\n",
        "\n",
        "model.summary()"
      ],
      "metadata": {
        "colab": {
          "base_uri": "https://localhost:8080/"
        },
        "id": "P55lvdLSlZSp",
        "outputId": "7c280985-3609-4f8a-b88e-5bfaba2fae24"
      },
      "execution_count": 36,
      "outputs": [
        {
          "output_type": "stream",
          "name": "stdout",
          "text": [
            "Model: \"sequential\"\n",
            "_________________________________________________________________\n",
            " Layer (type)                Output Shape              Param #   \n",
            "=================================================================\n",
            " conv2d (Conv2D)             (None, 222, 222, 20)      560       \n",
            "                                                                 \n",
            " max_pooling2d (MaxPooling2D  (None, 111, 111, 20)     0         \n",
            " )                                                               \n",
            "                                                                 \n",
            " conv2d_1 (Conv2D)           (None, 107, 107, 15)      7515      \n",
            "                                                                 \n",
            " max_pooling2d_1 (MaxPooling  (None, 53, 53, 15)       0         \n",
            " 2D)                                                             \n",
            "                                                                 \n",
            " conv2d_2 (Conv2D)           (None, 47, 47, 10)        7360      \n",
            "                                                                 \n",
            " max_pooling2d_2 (MaxPooling  (None, 23, 23, 10)       0         \n",
            " 2D)                                                             \n",
            "                                                                 \n",
            " flatten (Flatten)           (None, 5290)              0         \n",
            "                                                                 \n",
            " dense (Dense)               (None, 3)                 15873     \n",
            "                                                                 \n",
            "=================================================================\n",
            "Total params: 31,308\n",
            "Trainable params: 31,308\n",
            "Non-trainable params: 0\n",
            "_________________________________________________________________\n"
          ]
        }
      ]
    },
    {
      "cell_type": "code",
      "source": [
        "callbacks = [\n",
        "    tf.keras.callbacks.ReduceLROnPlateau(patience=3, verbose=True),\n",
        "    tf.keras.callbacks.EarlyStopping(patience=5, restore_best_weights=True),\n",
        "]\n",
        "\n",
        "history = model.fit(\n",
        "    train_data,\n",
        "    epochs=10,\n",
        "    batch_size=64,\n",
        "    steps_per_epoch=len(train_data),\n",
        "    validation_data=val_data,\n",
        "    validation_steps=len(val_data),\n",
        "    callbacks=callbacks,\n",
        ")\n",
        "\n",
        "print('\\n'*5)\n",
        "loss, accuracy = model.evaluate(val_data)\n",
        "print(f'loss: {loss}\\naccuracy: {accuracy}')"
      ],
      "metadata": {
        "colab": {
          "base_uri": "https://localhost:8080/"
        },
        "id": "RcFHVaiZmctf",
        "outputId": "a7caaf14-e07d-4b08-d713-1d1ea5dcb8df"
      },
      "execution_count": 38,
      "outputs": [
        {
          "output_type": "stream",
          "name": "stdout",
          "text": [
            "Epoch 1/10\n",
            "75/75 [==============================] - 39s 526ms/step - loss: 0.6328 - accuracy: 0.7296 - val_loss: 0.5676 - val_accuracy: 0.7767 - lr: 0.0010\n",
            "Epoch 2/10\n",
            "75/75 [==============================] - 39s 524ms/step - loss: 0.6581 - accuracy: 0.7117 - val_loss: 0.6937 - val_accuracy: 0.7083 - lr: 0.0010\n",
            "Epoch 3/10\n",
            "75/75 [==============================] - 39s 524ms/step - loss: 0.6579 - accuracy: 0.7158 - val_loss: 0.6255 - val_accuracy: 0.7650 - lr: 0.0010\n",
            "Epoch 4/10\n",
            "75/75 [==============================] - ETA: 0s - loss: 0.6219 - accuracy: 0.7262\n",
            "Epoch 4: ReduceLROnPlateau reducing learning rate to 0.00010000000474974513.\n",
            "75/75 [==============================] - 39s 523ms/step - loss: 0.6219 - accuracy: 0.7262 - val_loss: 0.6052 - val_accuracy: 0.7450 - lr: 0.0010\n",
            "Epoch 5/10\n",
            "75/75 [==============================] - 39s 525ms/step - loss: 0.5802 - accuracy: 0.7521 - val_loss: 0.5495 - val_accuracy: 0.7733 - lr: 1.0000e-04\n",
            "Epoch 6/10\n",
            "75/75 [==============================] - 39s 527ms/step - loss: 0.5598 - accuracy: 0.7679 - val_loss: 0.5266 - val_accuracy: 0.7650 - lr: 1.0000e-04\n",
            "Epoch 7/10\n",
            "75/75 [==============================] - 39s 523ms/step - loss: 0.5588 - accuracy: 0.7683 - val_loss: 0.5501 - val_accuracy: 0.7733 - lr: 1.0000e-04\n",
            "Epoch 8/10\n",
            "75/75 [==============================] - 40s 528ms/step - loss: 0.5611 - accuracy: 0.7738 - val_loss: 0.5232 - val_accuracy: 0.8233 - lr: 1.0000e-04\n",
            "Epoch 9/10\n",
            "75/75 [==============================] - 40s 529ms/step - loss: 0.5599 - accuracy: 0.7692 - val_loss: 0.5376 - val_accuracy: 0.7767 - lr: 1.0000e-04\n",
            "Epoch 10/10\n",
            "75/75 [==============================] - 40s 530ms/step - loss: 0.5431 - accuracy: 0.7738 - val_loss: 0.5454 - val_accuracy: 0.7817 - lr: 1.0000e-04\n",
            "\n",
            "\n",
            "\n",
            "\n",
            "\n",
            "\n",
            "19/19 [==============================] - 8s 415ms/step - loss: 0.5208 - accuracy: 0.7767\n",
            "loss: 0.5207961201667786\n",
            "accuracy: 0.7766666412353516\n"
          ]
        }
      ]
    },
    {
      "cell_type": "markdown",
      "source": [
        "### Висновок\n",
        "\n",
        "При виконанні Ларбораторної роботи 5, ми підготували тренувальний та валідаційний датасети для класифікації їжі, аугментувавши зображення для отримання кращої точності моделей, так як навчальний датасет доволі малий за розміром (800 зображень для кожного класу). Застосували згорткові нейронні мережі для класифікації зображень, отримавши точність ~77% для 3-х вибраних за варіантом класів."
      ],
      "metadata": {
        "id": "bjFDBxANq1QG"
      }
    }
  ]
}