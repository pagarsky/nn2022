{
  "nbformat": 4,
  "nbformat_minor": 0,
  "metadata": {
    "kernelspec": {
      "display_name": "Python 3",
      "language": "python",
      "name": "python3"
    },
    "language_info": {
      "name": "python",
      "version": "3.6.6",
      "mimetype": "text/x-python",
      "codemirror_mode": {
        "name": "ipython",
        "version": 3
      },
      "pygments_lexer": "ipython3",
      "nbconvert_exporter": "python",
      "file_extension": ".py"
    },
    "colab": {
      "name": "Lab4.ipynb",
      "provenance": [],
      "collapsed_sections": [
        "Z49P_8cCgUDi"
      ],
      "include_colab_link": true
    },
    "accelerator": "GPU"
  },
  "cells": [
    {
      "cell_type": "markdown",
      "metadata": {
        "id": "view-in-github",
        "colab_type": "text"
      },
      "source": [
        "<a href=\"https://colab.research.google.com/github/pagarsky/nn2022/blob/master/Lab4.ipynb\" target=\"_parent\"><img src=\"https://colab.research.google.com/assets/colab-badge.svg\" alt=\"Open In Colab\"/></a>"
      ]
    },
    {
      "cell_type": "markdown",
      "source": [
        "## Лабораторна робота №4\n",
        "### з дисципліни \"Нейронні мережі\"\n",
        "### студента групи КН-31/2\n",
        "### Пагарського Олексія\n",
        "### Варіант №7"
      ],
      "metadata": {
        "id": "VklxanfKYgFe"
      }
    },
    {
      "cell_type": "code",
      "metadata": {
        "trusted": true,
        "_uuid": "cda24f993b3fce92310d81fb3f6a782ed800778d",
        "id": "Fom4ytMGCKlJ"
      },
      "source": [
        "import random\n",
        "import itertools\n",
        "\n",
        "import tensorflow as tf\n",
        "from tensorflow.keras.models import Sequential\n",
        "from tensorflow.keras.layers import Dense, Activation\n",
        "from tensorflow.keras.utils import to_categorical\n",
        "from tensorflow.keras.datasets import fashion_mnist\n",
        "from sklearn.metrics import confusion_matrix\n",
        "\n",
        "import pandas as pd\n",
        "import numpy as np\n",
        "\n",
        "import matplotlib.pyplot as plt"
      ],
      "execution_count": null,
      "outputs": []
    },
    {
      "cell_type": "markdown",
      "source": [
        "### На основі документу вирішити завдання класифікації для набору даних Fashion MNIST.\n",
        "Для моделювання використати 3 класи індекси яких взяти відповідно до номеру у списку групи.\n",
        "Моделювання провести із використанням нейронної мережі (Flatten & Dense layers).\n",
        "Здійснити вибір оптимального кроку градієнтного алгоритму (learning_rate), а також побудову Confusion Matrix.\n"
      ],
      "metadata": {
        "id": "km5V4mWSdXKi"
      }
    },
    {
      "cell_type": "code",
      "source": [
        "indices = set([6, 9, 3])  # Shirt, Ankle boot, Dress\n",
        "_map = {6: 0, 9: 1, 3: 2}"
      ],
      "metadata": {
        "id": "HGnd9bKuiynj"
      },
      "execution_count": null,
      "outputs": []
    },
    {
      "cell_type": "code",
      "metadata": {
        "trusted": true,
        "_uuid": "2da26fa2385c17b1dab60db9deb52dc909ec612c",
        "id": "25ZpOMZ3CKlK"
      },
      "source": [
        "(train_data, train_labels), (test_data, test_labels) = fashion_mnist.load_data()"
      ],
      "execution_count": null,
      "outputs": []
    },
    {
      "cell_type": "code",
      "source": [
        "train_labels"
      ],
      "metadata": {
        "colab": {
          "base_uri": "https://localhost:8080/"
        },
        "id": "IttQA7mIkWG1",
        "outputId": "27cacdad-96ad-43cb-cd9c-5ea1ec43a8b4"
      },
      "execution_count": null,
      "outputs": [
        {
          "output_type": "execute_result",
          "data": {
            "text/plain": [
              "array([9, 0, 0, ..., 3, 0, 5], dtype=uint8)"
            ]
          },
          "metadata": {},
          "execution_count": 198
        }
      ]
    },
    {
      "cell_type": "code",
      "source": [
        "train_data_filtered = np.array([[img, _map[label]] for img, label in zip(train_data, train_labels) if label in indices])\n",
        "test_data_filtered = np.array([[img, _map[label]] for img, label in zip(test_data, test_labels) if label in indices])"
      ],
      "metadata": {
        "colab": {
          "base_uri": "https://localhost:8080/"
        },
        "id": "HMrVsM0ZibBQ",
        "outputId": "cb863ecd-d5a6-48c3-aaec-ee60cc20ddf3"
      },
      "execution_count": null,
      "outputs": [
        {
          "output_type": "stream",
          "name": "stderr",
          "text": [
            "/usr/local/lib/python3.7/dist-packages/ipykernel_launcher.py:1: VisibleDeprecationWarning: Creating an ndarray from ragged nested sequences (which is a list-or-tuple of lists-or-tuples-or ndarrays with different lengths or shapes) is deprecated. If you meant to do this, you must specify 'dtype=object' when creating the ndarray.\n",
            "  \"\"\"Entry point for launching an IPython kernel.\n",
            "/usr/local/lib/python3.7/dist-packages/ipykernel_launcher.py:2: VisibleDeprecationWarning: Creating an ndarray from ragged nested sequences (which is a list-or-tuple of lists-or-tuples-or ndarrays with different lengths or shapes) is deprecated. If you meant to do this, you must specify 'dtype=object' when creating the ndarray.\n",
            "  \n"
          ]
        }
      ]
    },
    {
      "cell_type": "code",
      "source": [
        "train_data, train_labels = train_data_filtered[:, 0], train_data_filtered[:, 1]\n",
        "test_data, test_labels = test_data_filtered[:, 0], test_data_filtered[:, 1]"
      ],
      "metadata": {
        "id": "gzyje-QmjPxF"
      },
      "execution_count": null,
      "outputs": []
    },
    {
      "cell_type": "code",
      "source": [
        "print(train_labels[7])\n",
        "plt.imshow(train_data[7])"
      ],
      "metadata": {
        "colab": {
          "base_uri": "https://localhost:8080/",
          "height": 300
        },
        "id": "R7OB2MQpkHkf",
        "outputId": "691409b8-f7aa-45d5-ca7d-251c8799e0f0"
      },
      "execution_count": null,
      "outputs": [
        {
          "output_type": "stream",
          "name": "stdout",
          "text": [
            "2\n"
          ]
        },
        {
          "output_type": "execute_result",
          "data": {
            "text/plain": [
              "<matplotlib.image.AxesImage at 0x7f81416bff50>"
            ]
          },
          "metadata": {},
          "execution_count": 201
        },
        {
          "output_type": "display_data",
          "data": {
            "text/plain": [
              "<Figure size 432x288 with 1 Axes>"
            ],
            "image/png": "[encoded data removed]"
          },
          "metadata": {
            "needs_background": "light"
          }
        }
      ]
    },
    {
      "cell_type": "code",
      "source": [
        "train_data = np.array([*train_data])\n",
        "test_data = np.array([*test_data])\n",
        "train_data.shape"
      ],
      "metadata": {
        "colab": {
          "base_uri": "https://localhost:8080/"
        },
        "id": "zTIHfI4In9eb",
        "outputId": "25f495a2-6f83-4ec6-c869-4664e6f9c5b7"
      },
      "execution_count": null,
      "outputs": [
        {
          "output_type": "execute_result",
          "data": {
            "text/plain": [
              "(18000, 28, 28)"
            ]
          },
          "metadata": {},
          "execution_count": 202
        }
      ]
    },
    {
      "cell_type": "code",
      "source": [
        "train_data = (train_data / 255.0)\n",
        "test_data = (test_data / 255.0)\n",
        "train_labels = train_labels.astype(np.int32)\n",
        "test_labels = test_labels.astype(np.int32)"
      ],
      "metadata": {
        "id": "rLXhQm2oeo8G"
      },
      "execution_count": null,
      "outputs": []
    },
    {
      "cell_type": "code",
      "metadata": {
        "trusted": true,
        "_uuid": "81fbbdc685be600913afddf6450c2e56dfd45a93",
        "id": "HnBUWl9-CKlL",
        "colab": {
          "base_uri": "https://localhost:8080/"
        },
        "outputId": "b911c0a3-ddaa-40d7-e6e1-781c4463d447"
      },
      "source": [
        "train_data.shape, train_labels.shape, test_data.shape, test_labels.shape"
      ],
      "execution_count": null,
      "outputs": [
        {
          "output_type": "execute_result",
          "data": {
            "text/plain": [
              "((18000, 28, 28), (18000,), (3000, 28, 28), (3000,))"
            ]
          },
          "metadata": {},
          "execution_count": 204
        }
      ]
    },
    {
      "cell_type": "code",
      "metadata": {
        "colab": {
          "base_uri": "https://localhost:8080/",
          "height": 427
        },
        "id": "Y5zQ2BR6fwcD",
        "outputId": "e699a6c6-e82c-4610-d2ce-bf1418316058"
      },
      "source": [
        "plt.figure(figsize=(7, 7))\n",
        "for i in range(4):\n",
        "  ax = plt.subplot(2, 2, i + 1)\n",
        "  rand_index = random.choice(range(len(train_data)))\n",
        "  plt.imshow(train_data[rand_index], cmap=plt.cm.binary)\n",
        "  plt.title(train_labels[rand_index])\n",
        "  plt.axis(False)"
      ],
      "execution_count": null,
      "outputs": [
        {
          "output_type": "display_data",
          "data": {
            "text/plain": [
              "<Figure size 504x504 with 4 Axes>"
            ],
            "image/png": "[encoded data removed]"
          },
          "metadata": {
            "needs_background": "light"
          }
        }
      ]
    },
    {
      "cell_type": "code",
      "metadata": {
        "id": "g6WXoPC9hsco"
      },
      "source": [
        "tf.random.set_seed(42)\n",
        "\n",
        "model = tf.keras.Sequential([\n",
        "tf.keras.layers.Flatten(input_shape=(28, 28)),\n",
        "tf.keras.layers.Dense(4, activation=\"relu\"),\n",
        "tf.keras.layers.Dense(4, activation=\"relu\"),\n",
        "tf.keras.layers.Dense(10, activation=\"softmax\")\n",
        "])\n",
        "\n",
        "model.compile(\n",
        "    loss=tf.keras.losses.SparseCategoricalCrossentropy(),\n",
        "    optimizer=tf.keras.optimizers.Adam(),\n",
        "    metrics=[\"acc\"]\n",
        ")"
      ],
      "execution_count": null,
      "outputs": []
    },
    {
      "cell_type": "code",
      "source": [
        "model.fit(\n",
        "    train_data,\n",
        "    train_labels,\n",
        "    epochs=10,\n",
        "    callbacks=[tf.keras.callbacks.EarlyStopping('val_acc', patience=3)],\n",
        "    validation_data=[test_data, test_labels]\n",
        ")"
      ],
      "metadata": {
        "colab": {
          "base_uri": "https://localhost:8080/"
        },
        "id": "UGyERAfvgj-S",
        "outputId": "4e9512c2-2921-4d24-a476-6901790cd988"
      },
      "execution_count": null,
      "outputs": [
        {
          "output_type": "stream",
          "name": "stdout",
          "text": [
            "Epoch 1/10\n",
            "563/563 [==============================] - 3s 4ms/step - loss: 0.5561 - acc: 0.7852 - val_loss: 0.1711 - val_acc: 0.9457\n",
            "Epoch 2/10\n",
            "563/563 [==============================] - 2s 4ms/step - loss: 0.1301 - acc: 0.9549 - val_loss: 0.1542 - val_acc: 0.9483\n",
            "Epoch 3/10\n",
            "563/563 [==============================] - 2s 4ms/step - loss: 0.1144 - acc: 0.9592 - val_loss: 0.1476 - val_acc: 0.9500\n",
            "Epoch 4/10\n",
            "563/563 [==============================] - 2s 4ms/step - loss: 0.1076 - acc: 0.9623 - val_loss: 0.1394 - val_acc: 0.9497\n",
            "Epoch 5/10\n",
            "563/563 [==============================] - 2s 4ms/step - loss: 0.1028 - acc: 0.9641 - val_loss: 0.1358 - val_acc: 0.9543\n",
            "Epoch 6/10\n",
            "563/563 [==============================] - 2s 4ms/step - loss: 0.1002 - acc: 0.9643 - val_loss: 0.1325 - val_acc: 0.9553\n",
            "Epoch 7/10\n",
            "563/563 [==============================] - 2s 4ms/step - loss: 0.0973 - acc: 0.9639 - val_loss: 0.1375 - val_acc: 0.9553\n",
            "Epoch 8/10\n",
            "563/563 [==============================] - 2s 4ms/step - loss: 0.0964 - acc: 0.9641 - val_loss: 0.1373 - val_acc: 0.9513\n",
            "Epoch 9/10\n",
            "563/563 [==============================] - 2s 4ms/step - loss: 0.0973 - acc: 0.9653 - val_loss: 0.1579 - val_acc: 0.9453\n"
          ]
        },
        {
          "output_type": "execute_result",
          "data": {
            "text/plain": [
              "<keras.callbacks.History at 0x7f8140115d90>"
            ]
          },
          "metadata": {},
          "execution_count": 244
        }
      ]
    },
    {
      "cell_type": "code",
      "metadata": {
        "colab": {
          "base_uri": "https://localhost:8080/",
          "height": 298
        },
        "id": "I035tFuJhv5b",
        "outputId": "30bb6567-0345-4f50-9266-ffcc37d8b279"
      },
      "source": [
        "pd.DataFrame(model.history.history).plot(title=\"Normalized data\")"
      ],
      "execution_count": null,
      "outputs": [
        {
          "output_type": "execute_result",
          "data": {
            "text/plain": [
              "<matplotlib.axes._subplots.AxesSubplot at 0x7f813f460590>"
            ]
          },
          "metadata": {},
          "execution_count": 245
        },
        {
          "output_type": "display_data",
          "data": {
            "text/plain": [
              "<Figure size 432x288 with 1 Axes>"
            ],
            "image/png": "[encoded data removed]"
          },
          "metadata": {
            "needs_background": "light"
          }
        }
      ]
    },
    {
      "cell_type": "markdown",
      "source": [
        "### make_confusion_matrix"
      ],
      "metadata": {
        "id": "Z49P_8cCgUDi"
      }
    },
    {
      "cell_type": "code",
      "source": [
        "def make_confusion_matrix(y_true, y_pred, classes=None, figsize=(10, 10), text_size=15): \n",
        "  \"\"\"Makes a labelled confusion matrix comparing predictions and ground truth labels.\n",
        "\n",
        "  If classes is passed, confusion matrix will be labelled, if not, integer class values\n",
        "  will be used.\n",
        "\n",
        "  Args:\n",
        "    y_true: Array of truth labels (must be same shape as y_pred).\n",
        "    y_pred: Array of predicted labels (must be same shape as y_true).\n",
        "    classes: Array of class labels (e.g. string form). If `None`, integer labels are used.\n",
        "    figsize: Size of output figure (default=(10, 10)).\n",
        "    text_size: Size of output figure text (default=15).\n",
        "  \n",
        "  Returns:\n",
        "    A labelled confusion matrix plot comparing y_true and y_pred.\n",
        "\n",
        "  Example usage:\n",
        "    make_confusion_matrix(y_true=test_labels, # ground truth test labels\n",
        "                          y_pred=y_preds, # predicted labels\n",
        "                          classes=class_names, # array of class label names\n",
        "                          figsize=(15, 15),\n",
        "                          text_size=10)\n",
        "  \"\"\"  \n",
        "  # Create the confustion matrix\n",
        "  cm = confusion_matrix(y_true, y_pred)\n",
        "  cm_norm = cm.astype(\"float\") / cm.sum(axis=1)[:, np.newaxis] # normalize it\n",
        "  n_classes = cm.shape[0] # find the number of classes we're dealing with\n",
        "\n",
        "  # Plot the figure and make it pretty\n",
        "  fig, ax = plt.subplots(figsize=figsize)\n",
        "  cax = ax.matshow(cm, cmap=plt.cm.Blues) # colors will represent how 'correct' a class is, darker == better\n",
        "  fig.colorbar(cax)\n",
        "\n",
        "  # Are there a list of classes?\n",
        "  if classes:\n",
        "    labels = classes\n",
        "  else:\n",
        "    labels = np.arange(cm.shape[0])\n",
        "  \n",
        "  # Label the axes\n",
        "  ax.set(title=\"Confusion Matrix\",\n",
        "         xlabel=\"Predicted label\",\n",
        "         ylabel=\"True label\",\n",
        "         xticks=np.arange(n_classes), # create enough axis slots for each class\n",
        "         yticks=np.arange(n_classes), \n",
        "         xticklabels=labels, # axes will labeled with class names (if they exist) or ints\n",
        "         yticklabels=labels)\n",
        "  \n",
        "  # Make x-axis labels appear on bottom\n",
        "  ax.xaxis.set_label_position(\"bottom\")\n",
        "  ax.xaxis.tick_bottom()\n",
        "\n",
        "  # Set the threshold for different colors\n",
        "  threshold = (cm.max() + cm.min()) / 2.\n",
        "\n",
        "  # Plot the text on each cell\n",
        "  for i, j in itertools.product(range(cm.shape[0]), range(cm.shape[1])):\n",
        "    plt.text(j, i, f\"{cm[i, j]} ({cm_norm[i, j]*100:.1f}%)\",\n",
        "             horizontalalignment=\"center\",\n",
        "             color=\"white\" if cm[i, j] > threshold else \"black\",\n",
        "             size=text_size)"
      ],
      "metadata": {
        "id": "ai6Mme8yf3kY"
      },
      "execution_count": null,
      "outputs": []
    },
    {
      "cell_type": "markdown",
      "source": [
        "###_"
      ],
      "metadata": {
        "id": "sKoJwGI2gZKR"
      }
    },
    {
      "cell_type": "code",
      "source": [
        "y_probs = model.predict(test_data)\n",
        "y_preds = y_probs.argmax(axis=1)\n",
        "\n",
        "# View the first 10 prediction labels\n",
        "y_preds[:10]"
      ],
      "metadata": {
        "colab": {
          "base_uri": "https://localhost:8080/"
        },
        "id": "OpPMGrxDgXl8",
        "outputId": "3a08cd3c-7336-4c1e-86cb-99ec5ad6e272"
      },
      "execution_count": null,
      "outputs": [
        {
          "output_type": "execute_result",
          "data": {
            "text/plain": [
              "array([1, 0, 0, 2, 1, 0, 1, 0, 2, 2])"
            ]
          },
          "metadata": {},
          "execution_count": 246
        }
      ]
    },
    {
      "cell_type": "code",
      "source": [
        "make_confusion_matrix(y_true=test_labels, \n",
        "                      y_pred=y_preds,\n",
        "                      classes=['Shirt', 'Ankle boot', 'Dress'],\n",
        "                      figsize=(15, 15),\n",
        "                      text_size=10)\n"
      ],
      "metadata": {
        "colab": {
          "base_uri": "https://localhost:8080/",
          "height": 690
        },
        "id": "yMf0fEmXhAxs",
        "outputId": "7a4948d2-f577-45d4-c8e2-ce46ef0354f1"
      },
      "execution_count": null,
      "outputs": [
        {
          "output_type": "display_data",
          "data": {
            "text/plain": [
              "<Figure size 1080x1080 with 2 Axes>"
            ],
            "image/png": "[encoded data removed]"
          },
          "metadata": {
            "needs_background": "light"
          }
        }
      ]
    },
    {
      "cell_type": "markdown",
      "source": [
        "## Висновок\n",
        "Для виконання класифікації картинок одягу ми використали повнозв'язну нейронну мережу, навчили на вибраних відповідно до варіанту класах, отримавши точність ~96%, та візуалізували confusion_matrix для даної моделі."
      ],
      "metadata": {
        "id": "5loZ7D5bY01E"
      }
    }
  ]
}