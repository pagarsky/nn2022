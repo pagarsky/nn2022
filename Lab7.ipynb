{
  "nbformat": 4,
  "nbformat_minor": 0,
  "metadata": {
    "colab": {
      "name": "Lab7_NN.ipynb",
      "provenance": [],
      "authorship_tag": "ABX9TyNE0r0lrJTbyKGK3roike0U",
      "include_colab_link": true
    },
    "kernelspec": {
      "name": "python3",
      "display_name": "Python 3"
    },
    "language_info": {
      "name": "python"
    }
  },
  "cells": [
    {
      "cell_type": "markdown",
      "metadata": {
        "id": "view-in-github",
        "colab_type": "text"
      },
      "source": [
        "<a href=\"https://colab.research.google.com/github/pagarsky/nn2022/blob/master/Lab7.ipynb\" target=\"_parent\"><img src=\"https://colab.research.google.com/assets/colab-badge.svg\" alt=\"Open In Colab\"/></a>"
      ]
    },
    {
      "cell_type": "markdown",
      "source": [
        "# Лабораторна робота №7 (додаткова)\n",
        "#### з дисципліни \"Нейронні мережі\"\n",
        "#### студента групи КН-31/2\n",
        "#### Пагарського Олексія\n",
        "#### Варіант №7"
      ],
      "metadata": {
        "id": "5hCD2ni9LDF7"
      }
    },
    {
      "cell_type": "code",
      "execution_count": 26,
      "metadata": {
        "id": "LnrG4MY8K_oG"
      },
      "outputs": [],
      "source": [
        "import random\n",
        "import os\n",
        "import pathlib\n",
        "from distutils.dir_util import copy_tree\n",
        "import csv\n",
        "from datetime import datetime\n",
        "\n",
        "from sklearn.model_selection import train_test_split \n",
        "import pandas as pd\n",
        "import numpy as np\n",
        "import tensorflow as tf\n",
        "from tensorflow import keras\n",
        "from tensorflow.keras import layers\n",
        "from tensorflow.keras.preprocessing.image import ImageDataGenerator\n",
        "import matplotlib.pyplot as plt\n",
        "import matplotlib.image as mpimg"
      ]
    },
    {
      "cell_type": "markdown",
      "source": [
        "### На основі документу виконати прогнозування часових рядів за варіантом, що визначається порядковим номером студента в групі\n",
        "> 1) model_1_dense_w7_h1  \n",
        "\n",
        "_(7 % 6 == 1)_"
      ],
      "metadata": {
        "id": "GOc-qsYoLZgN"
      }
    },
    {
      "cell_type": "code",
      "source": [
        "!wget https://raw.githubusercontent.com/mrdbourke/tensorflow-deep-learning/main/extras/BTC_USD_2013-10-01_2021-05-18-CoinDesk.csv "
      ],
      "metadata": {
        "colab": {
          "base_uri": "https://localhost:8080/"
        },
        "id": "CKDx3Q0iLKJi",
        "outputId": "ac7f148e-bee6-43bc-8cfe-42b251468552"
      },
      "execution_count": 2,
      "outputs": [
        {
          "output_type": "stream",
          "name": "stdout",
          "text": [
            "--2022-05-27 20:22:04--  https://raw.githubusercontent.com/mrdbourke/tensorflow-deep-learning/main/extras/BTC_USD_2013-10-01_2021-05-18-CoinDesk.csv\n",
            "Resolving raw.githubusercontent.com (raw.githubusercontent.com)... 185.199.109.133, 185.199.111.133, 185.199.108.133, ...\n",
            "Connecting to raw.githubusercontent.com (raw.githubusercontent.com)|185.199.109.133|:443... connected.\n",
            "HTTP request sent, awaiting response... 200 OK\n",
            "Length: 178509 (174K) [text/plain]\n",
            "Saving to: ‘BTC_USD_2013-10-01_2021-05-18-CoinDesk.csv’\n",
            "\n",
            "BTC_USD_2013-10-01_ 100%[===================>] 174.33K  --.-KB/s    in 0.01s   \n",
            "\n",
            "2022-05-27 20:22:04 (12.0 MB/s) - ‘BTC_USD_2013-10-01_2021-05-18-CoinDesk.csv’ saved [178509/178509]\n",
            "\n"
          ]
        }
      ]
    },
    {
      "cell_type": "code",
      "source": [
        "df = pd.read_csv(\"/content/BTC_USD_2013-10-01_2021-05-18-CoinDesk.csv\", \n",
        "                 parse_dates=[\"Date\"], \n",
        "                 index_col=[\"Date\"]) # parse the date column (tell pandas column 1 is a datetime)\n",
        "df.head()"
      ],
      "metadata": {
        "colab": {
          "base_uri": "https://localhost:8080/",
          "height": 238
        },
        "id": "1bCFTPxlLum8",
        "outputId": "71295ec7-052e-4f8a-a63f-5b4f955c4017"
      },
      "execution_count": 4,
      "outputs": [
        {
          "output_type": "execute_result",
          "data": {
            "text/plain": [
              "           Currency  Closing Price (USD)  24h Open (USD)  24h High (USD)  \\\n",
              "Date                                                                       \n",
              "2013-10-01      BTC            123.65499       124.30466       124.75166   \n",
              "2013-10-02      BTC            125.45500       123.65499       125.75850   \n",
              "2013-10-03      BTC            108.58483       125.45500       125.66566   \n",
              "2013-10-04      BTC            118.67466       108.58483       118.67500   \n",
              "2013-10-05      BTC            121.33866       118.67466       121.93633   \n",
              "\n",
              "            24h Low (USD)  \n",
              "Date                       \n",
              "2013-10-01      122.56349  \n",
              "2013-10-02      123.63383  \n",
              "2013-10-03       83.32833  \n",
              "2013-10-04      107.05816  \n",
              "2013-10-05      118.00566  "
            ],
            "text/html": [
              "\n",
              "  <div id=\"df-499a3014-e5db-4c15-a651-19edda397dc2\">\n",
              "    <div class=\"colab-df-container\">\n",
              "      <div>\n",
              "<style scoped>\n",
              "    .dataframe tbody tr th:only-of-type {\n",
              "        vertical-align: middle;\n",
              "    }\n",
              "\n",
              "    .dataframe tbody tr th {\n",
              "        vertical-align: top;\n",
              "    }\n",
              "\n",
              "    .dataframe thead th {\n",
              "        text-align: right;\n",
              "    }\n",
              "</style>\n",
              "<table border=\"1\" class=\"dataframe\">\n",
              "  <thead>\n",
              "    <tr style=\"text-align: right;\">\n",
              "      <th></th>\n",
              "      <th>Currency</th>\n",
              "      <th>Closing Price (USD)</th>\n",
              "      <th>24h Open (USD)</th>\n",
              "      <th>24h High (USD)</th>\n",
              "      <th>24h Low (USD)</th>\n",
              "    </tr>\n",
              "    <tr>\n",
              "      <th>Date</th>\n",
              "      <th></th>\n",
              "      <th></th>\n",
              "      <th></th>\n",
              "      <th></th>\n",
              "      <th></th>\n",
              "    </tr>\n",
              "  </thead>\n",
              "  <tbody>\n",
              "    <tr>\n",
              "      <th>2013-10-01</th>\n",
              "      <td>BTC</td>\n",
              "      <td>123.65499</td>\n",
              "      <td>124.30466</td>\n",
              "      <td>124.75166</td>\n",
              "      <td>122.56349</td>\n",
              "    </tr>\n",
              "    <tr>\n",
              "      <th>2013-10-02</th>\n",
              "      <td>BTC</td>\n",
              "      <td>125.45500</td>\n",
              "      <td>123.65499</td>\n",
              "      <td>125.75850</td>\n",
              "      <td>123.63383</td>\n",
              "    </tr>\n",
              "    <tr>\n",
              "      <th>2013-10-03</th>\n",
              "      <td>BTC</td>\n",
              "      <td>108.58483</td>\n",
              "      <td>125.45500</td>\n",
              "      <td>125.66566</td>\n",
              "      <td>83.32833</td>\n",
              "    </tr>\n",
              "    <tr>\n",
              "      <th>2013-10-04</th>\n",
              "      <td>BTC</td>\n",
              "      <td>118.67466</td>\n",
              "      <td>108.58483</td>\n",
              "      <td>118.67500</td>\n",
              "      <td>107.05816</td>\n",
              "    </tr>\n",
              "    <tr>\n",
              "      <th>2013-10-05</th>\n",
              "      <td>BTC</td>\n",
              "      <td>121.33866</td>\n",
              "      <td>118.67466</td>\n",
              "      <td>121.93633</td>\n",
              "      <td>118.00566</td>\n",
              "    </tr>\n",
              "  </tbody>\n",
              "</table>\n",
              "</div>\n",
              "      <button class=\"colab-df-convert\" onclick=\"convertToInteractive('df-499a3014-e5db-4c15-a651-19edda397dc2')\"\n",
              "              title=\"Convert this dataframe to an interactive table.\"\n",
              "              style=\"display:none;\">\n",
              "        \n",
              "  <svg xmlns=\"http://www.w3.org/2000/svg\" height=\"24px\"viewBox=\"0 0 24 24\"\n",
              "       width=\"24px\">\n",
              "    <path d=\"M0 0h24v24H0V0z\" fill=\"none\"/>\n",
              "    <path d=\"M18.56 5.44l.94 2.06.94-2.06 2.06-.94-2.06-.94-.94-2.06-.94 2.06-2.06.94zm-11 1L8.5 8.5l.94-2.06 2.06-.94-2.06-.94L8.5 2.5l-.94 2.06-2.06.94zm10 10l.94 2.06.94-2.06 2.06-.94-2.06-.94-.94-2.06-.94 2.06-2.06.94z\"/><path d=\"M17.41 7.96l-1.37-1.37c-.4-.4-.92-.59-1.43-.59-.52 0-1.04.2-1.43.59L10.3 9.45l-7.72 7.72c-.78.78-.78 2.05 0 2.83L4 21.41c.39.39.9.59 1.41.59.51 0 1.02-.2 1.41-.59l7.78-7.78 2.81-2.81c.8-.78.8-2.07 0-2.86zM5.41 20L4 18.59l7.72-7.72 1.47 1.35L5.41 20z\"/>\n",
              "  </svg>\n",
              "      </button>\n",
              "      \n",
              "  <style>\n",
              "    .colab-df-container {\n",
              "      display:flex;\n",
              "      flex-wrap:wrap;\n",
              "      gap: 12px;\n",
              "    }\n",
              "\n",
              "    .colab-df-convert {\n",
              "      background-color: #E8F0FE;\n",
              "      border: none;\n",
              "      border-radius: 50%;\n",
              "      cursor: pointer;\n",
              "      display: none;\n",
              "      fill: #1967D2;\n",
              "      height: 32px;\n",
              "      padding: 0 0 0 0;\n",
              "      width: 32px;\n",
              "    }\n",
              "\n",
              "    .colab-df-convert:hover {\n",
              "      background-color: #E2EBFA;\n",
              "      box-shadow: 0px 1px 2px rgba(60, 64, 67, 0.3), 0px 1px 3px 1px rgba(60, 64, 67, 0.15);\n",
              "      fill: #174EA6;\n",
              "    }\n",
              "\n",
              "    [theme=dark] .colab-df-convert {\n",
              "      background-color: #3B4455;\n",
              "      fill: #D2E3FC;\n",
              "    }\n",
              "\n",
              "    [theme=dark] .colab-df-convert:hover {\n",
              "      background-color: #434B5C;\n",
              "      box-shadow: 0px 1px 3px 1px rgba(0, 0, 0, 0.15);\n",
              "      filter: drop-shadow(0px 1px 2px rgba(0, 0, 0, 0.3));\n",
              "      fill: #FFFFFF;\n",
              "    }\n",
              "  </style>\n",
              "\n",
              "      <script>\n",
              "        const buttonEl =\n",
              "          document.querySelector('#df-499a3014-e5db-4c15-a651-19edda397dc2 button.colab-df-convert');\n",
              "        buttonEl.style.display =\n",
              "          google.colab.kernel.accessAllowed ? 'block' : 'none';\n",
              "\n",
              "        async function convertToInteractive(key) {\n",
              "          const element = document.querySelector('#df-499a3014-e5db-4c15-a651-19edda397dc2');\n",
              "          const dataTable =\n",
              "            await google.colab.kernel.invokeFunction('convertToInteractive',\n",
              "                                                     [key], {});\n",
              "          if (!dataTable) return;\n",
              "\n",
              "          const docLinkHtml = 'Like what you see? Visit the ' +\n",
              "            '<a target=\"_blank\" href=https://colab.research.google.com/notebooks/data_table.ipynb>data table notebook</a>'\n",
              "            + ' to learn more about interactive tables.';\n",
              "          element.innerHTML = '';\n",
              "          dataTable['output_type'] = 'display_data';\n",
              "          await google.colab.output.renderOutput(dataTable, element);\n",
              "          const docLink = document.createElement('div');\n",
              "          docLink.innerHTML = docLinkHtml;\n",
              "          element.appendChild(docLink);\n",
              "        }\n",
              "      </script>\n",
              "    </div>\n",
              "  </div>\n",
              "  "
            ]
          },
          "metadata": {},
          "execution_count": 4
        }
      ]
    },
    {
      "cell_type": "code",
      "source": [
        "# Only want closing price for each day \n",
        "bitcoin_prices = pd.DataFrame(df[\"Closing Price (USD)\"]).rename(columns={\"Closing Price (USD)\": \"Price\"})\n",
        "bitcoin_prices.head()"
      ],
      "metadata": {
        "colab": {
          "base_uri": "https://localhost:8080/",
          "height": 238
        },
        "id": "uyvVBVidL3cq",
        "outputId": "a306f4df-0891-49dc-ba24-60e64bcdbadd"
      },
      "execution_count": 5,
      "outputs": [
        {
          "output_type": "execute_result",
          "data": {
            "text/plain": [
              "                Price\n",
              "Date                 \n",
              "2013-10-01  123.65499\n",
              "2013-10-02  125.45500\n",
              "2013-10-03  108.58483\n",
              "2013-10-04  118.67466\n",
              "2013-10-05  121.33866"
            ],
            "text/html": [
              "\n",
              "  <div id=\"df-0d0a2643-c186-4150-9111-c64b6eaccfa0\">\n",
              "    <div class=\"colab-df-container\">\n",
              "      <div>\n",
              "<style scoped>\n",
              "    .dataframe tbody tr th:only-of-type {\n",
              "        vertical-align: middle;\n",
              "    }\n",
              "\n",
              "    .dataframe tbody tr th {\n",
              "        vertical-align: top;\n",
              "    }\n",
              "\n",
              "    .dataframe thead th {\n",
              "        text-align: right;\n",
              "    }\n",
              "</style>\n",
              "<table border=\"1\" class=\"dataframe\">\n",
              "  <thead>\n",
              "    <tr style=\"text-align: right;\">\n",
              "      <th></th>\n",
              "      <th>Price</th>\n",
              "    </tr>\n",
              "    <tr>\n",
              "      <th>Date</th>\n",
              "      <th></th>\n",
              "    </tr>\n",
              "  </thead>\n",
              "  <tbody>\n",
              "    <tr>\n",
              "      <th>2013-10-01</th>\n",
              "      <td>123.65499</td>\n",
              "    </tr>\n",
              "    <tr>\n",
              "      <th>2013-10-02</th>\n",
              "      <td>125.45500</td>\n",
              "    </tr>\n",
              "    <tr>\n",
              "      <th>2013-10-03</th>\n",
              "      <td>108.58483</td>\n",
              "    </tr>\n",
              "    <tr>\n",
              "      <th>2013-10-04</th>\n",
              "      <td>118.67466</td>\n",
              "    </tr>\n",
              "    <tr>\n",
              "      <th>2013-10-05</th>\n",
              "      <td>121.33866</td>\n",
              "    </tr>\n",
              "  </tbody>\n",
              "</table>\n",
              "</div>\n",
              "      <button class=\"colab-df-convert\" onclick=\"convertToInteractive('df-0d0a2643-c186-4150-9111-c64b6eaccfa0')\"\n",
              "              title=\"Convert this dataframe to an interactive table.\"\n",
              "              style=\"display:none;\">\n",
              "        \n",
              "  <svg xmlns=\"http://www.w3.org/2000/svg\" height=\"24px\"viewBox=\"0 0 24 24\"\n",
              "       width=\"24px\">\n",
              "    <path d=\"M0 0h24v24H0V0z\" fill=\"none\"/>\n",
              "    <path d=\"M18.56 5.44l.94 2.06.94-2.06 2.06-.94-2.06-.94-.94-2.06-.94 2.06-2.06.94zm-11 1L8.5 8.5l.94-2.06 2.06-.94-2.06-.94L8.5 2.5l-.94 2.06-2.06.94zm10 10l.94 2.06.94-2.06 2.06-.94-2.06-.94-.94-2.06-.94 2.06-2.06.94z\"/><path d=\"M17.41 7.96l-1.37-1.37c-.4-.4-.92-.59-1.43-.59-.52 0-1.04.2-1.43.59L10.3 9.45l-7.72 7.72c-.78.78-.78 2.05 0 2.83L4 21.41c.39.39.9.59 1.41.59.51 0 1.02-.2 1.41-.59l7.78-7.78 2.81-2.81c.8-.78.8-2.07 0-2.86zM5.41 20L4 18.59l7.72-7.72 1.47 1.35L5.41 20z\"/>\n",
              "  </svg>\n",
              "      </button>\n",
              "      \n",
              "  <style>\n",
              "    .colab-df-container {\n",
              "      display:flex;\n",
              "      flex-wrap:wrap;\n",
              "      gap: 12px;\n",
              "    }\n",
              "\n",
              "    .colab-df-convert {\n",
              "      background-color: #E8F0FE;\n",
              "      border: none;\n",
              "      border-radius: 50%;\n",
              "      cursor: pointer;\n",
              "      display: none;\n",
              "      fill: #1967D2;\n",
              "      height: 32px;\n",
              "      padding: 0 0 0 0;\n",
              "      width: 32px;\n",
              "    }\n",
              "\n",
              "    .colab-df-convert:hover {\n",
              "      background-color: #E2EBFA;\n",
              "      box-shadow: 0px 1px 2px rgba(60, 64, 67, 0.3), 0px 1px 3px 1px rgba(60, 64, 67, 0.15);\n",
              "      fill: #174EA6;\n",
              "    }\n",
              "\n",
              "    [theme=dark] .colab-df-convert {\n",
              "      background-color: #3B4455;\n",
              "      fill: #D2E3FC;\n",
              "    }\n",
              "\n",
              "    [theme=dark] .colab-df-convert:hover {\n",
              "      background-color: #434B5C;\n",
              "      box-shadow: 0px 1px 3px 1px rgba(0, 0, 0, 0.15);\n",
              "      filter: drop-shadow(0px 1px 2px rgba(0, 0, 0, 0.3));\n",
              "      fill: #FFFFFF;\n",
              "    }\n",
              "  </style>\n",
              "\n",
              "      <script>\n",
              "        const buttonEl =\n",
              "          document.querySelector('#df-0d0a2643-c186-4150-9111-c64b6eaccfa0 button.colab-df-convert');\n",
              "        buttonEl.style.display =\n",
              "          google.colab.kernel.accessAllowed ? 'block' : 'none';\n",
              "\n",
              "        async function convertToInteractive(key) {\n",
              "          const element = document.querySelector('#df-0d0a2643-c186-4150-9111-c64b6eaccfa0');\n",
              "          const dataTable =\n",
              "            await google.colab.kernel.invokeFunction('convertToInteractive',\n",
              "                                                     [key], {});\n",
              "          if (!dataTable) return;\n",
              "\n",
              "          const docLinkHtml = 'Like what you see? Visit the ' +\n",
              "            '<a target=\"_blank\" href=https://colab.research.google.com/notebooks/data_table.ipynb>data table notebook</a>'\n",
              "            + ' to learn more about interactive tables.';\n",
              "          element.innerHTML = '';\n",
              "          dataTable['output_type'] = 'display_data';\n",
              "          await google.colab.output.renderOutput(dataTable, element);\n",
              "          const docLink = document.createElement('div');\n",
              "          docLink.innerHTML = docLinkHtml;\n",
              "          element.appendChild(docLink);\n",
              "        }\n",
              "      </script>\n",
              "    </div>\n",
              "  </div>\n",
              "  "
            ]
          },
          "metadata": {},
          "execution_count": 5
        }
      ]
    },
    {
      "cell_type": "code",
      "source": [
        "bitcoin_prices.plot(figsize=(10, 7))\n",
        "plt.ylabel(\"BTC Price\")\n",
        "plt.title(\"Price of Bitcoin from 1 Oct 2013 to 18 May 2021\", fontsize=16)\n",
        "plt.legend(fontsize=14);"
      ],
      "metadata": {
        "colab": {
          "base_uri": "https://localhost:8080/",
          "height": 460
        },
        "id": "dxODMQnwL66o",
        "outputId": "42ab1e3a-3199-48d4-860b-c56c17c47c8b"
      },
      "execution_count": 6,
      "outputs": [
        {
          "output_type": "display_data",
          "data": {
            "text/plain": [
              "<Figure size 720x504 with 1 Axes>"
            ],
            "image/png": "[encoded data removed]"
          },
          "metadata": {
            "needs_background": "light"
          }
        }
      ]
    },
    {
      "cell_type": "code",
      "source": [
        "timesteps = []\n",
        "btc_price = []\n",
        "with open(\"/content/BTC_USD_2013-10-01_2021-05-18-CoinDesk.csv\", \"r\") as f:\n",
        "  csv_reader = csv.reader(f, delimiter=\",\") # read in the target CSV\n",
        "  next(csv_reader) # skip first line (this gets rid of the column titles)\n",
        "  for line in csv_reader:\n",
        "    timesteps.append(datetime.strptime(line[1], \"%Y-%m-%d\")) # get the dates as dates (not strings), strptime = string parse time\n",
        "    btc_price.append(float(line[2])) # get the closing price as float\n",
        "\n",
        "# View first 10 of each\n",
        "timesteps[:10], btc_price[:10]"
      ],
      "metadata": {
        "colab": {
          "base_uri": "https://localhost:8080/"
        },
        "id": "n1pp4395L9Pg",
        "outputId": "50d952fc-19bb-4810-bfd4-c147ffb4380f"
      },
      "execution_count": 8,
      "outputs": [
        {
          "output_type": "execute_result",
          "data": {
            "text/plain": [
              "([datetime.datetime(2013, 10, 1, 0, 0),\n",
              "  datetime.datetime(2013, 10, 2, 0, 0),\n",
              "  datetime.datetime(2013, 10, 3, 0, 0),\n",
              "  datetime.datetime(2013, 10, 4, 0, 0),\n",
              "  datetime.datetime(2013, 10, 5, 0, 0),\n",
              "  datetime.datetime(2013, 10, 6, 0, 0),\n",
              "  datetime.datetime(2013, 10, 7, 0, 0),\n",
              "  datetime.datetime(2013, 10, 8, 0, 0),\n",
              "  datetime.datetime(2013, 10, 9, 0, 0),\n",
              "  datetime.datetime(2013, 10, 10, 0, 0)],\n",
              " [123.65499,\n",
              "  125.455,\n",
              "  108.58483,\n",
              "  118.67466,\n",
              "  121.33866,\n",
              "  120.65533,\n",
              "  121.795,\n",
              "  123.033,\n",
              "  124.049,\n",
              "  125.96116])"
            ]
          },
          "metadata": {},
          "execution_count": 8
        }
      ]
    },
    {
      "cell_type": "code",
      "source": [
        "plt.figure(figsize=(10, 7))\n",
        "plt.plot(timesteps, btc_price)\n",
        "plt.title(\"Price of Bitcoin from 1 Oct 2013 to 18 May 2021\", fontsize=16)\n",
        "plt.xlabel(\"Date\")\n",
        "plt.ylabel(\"BTC Price\")"
      ],
      "metadata": {
        "colab": {
          "base_uri": "https://localhost:8080/",
          "height": 478
        },
        "id": "9HSxOJoaMDI8",
        "outputId": "9f76ac0f-8d18-47dd-a395-ad80da9b23fa"
      },
      "execution_count": 9,
      "outputs": [
        {
          "output_type": "execute_result",
          "data": {
            "text/plain": [
              "Text(0, 0.5, 'BTC Price')"
            ]
          },
          "metadata": {},
          "execution_count": 9
        },
        {
          "output_type": "display_data",
          "data": {
            "text/plain": [
              "<Figure size 720x504 with 1 Axes>"
            ],
            "image/png": "[encoded data removed]"
          },
          "metadata": {
            "needs_background": "light"
          }
        }
      ]
    },
    {
      "cell_type": "code",
      "source": [
        "timesteps = bitcoin_prices.index.to_numpy()\n",
        "prices = bitcoin_prices[\"Price\"].to_numpy()\n",
        "\n",
        "X_train, X_test, y_train, y_test = train_test_split(timesteps, # dates\n",
        "                                                    prices, # prices\n",
        "                                                    test_size=0.2,\n",
        "                                                    random_state=42)\n",
        "X_train.shape, X_test.shape, y_train.shape, y_test.shape"
      ],
      "metadata": {
        "colab": {
          "base_uri": "https://localhost:8080/"
        },
        "id": "AaBnyC4OMKHV",
        "outputId": "b4222a39-6987-4d35-b213-3812d7202143"
      },
      "execution_count": 11,
      "outputs": [
        {
          "output_type": "execute_result",
          "data": {
            "text/plain": [
              "((2229,), (558,), (2229,), (558,))"
            ]
          },
          "metadata": {},
          "execution_count": 11
        }
      ]
    },
    {
      "cell_type": "code",
      "source": [
        "plt.figure(figsize=(10, 7))\n",
        "plt.scatter(X_train, y_train, s=5, label=\"Train data\")\n",
        "plt.scatter(X_test, y_test, s=5, label=\"Test data\")\n",
        "plt.xlabel(\"Date\")\n",
        "plt.ylabel(\"BTC Price\")\n",
        "plt.legend(fontsize=14)\n",
        "plt.show()"
      ],
      "metadata": {
        "colab": {
          "base_uri": "https://localhost:8080/",
          "height": 442
        },
        "id": "HgpNvr3cMVgM",
        "outputId": "0441ef2b-3517-4731-8f70-a74ac84cce79"
      },
      "execution_count": 12,
      "outputs": [
        {
          "output_type": "display_data",
          "data": {
            "text/plain": [
              "<Figure size 720x504 with 1 Axes>"
            ],
            "image/png": "[encoded data removed]"
          },
          "metadata": {
            "needs_background": "light"
          }
        }
      ]
    },
    {
      "cell_type": "code",
      "source": [
        "split_size = int(0.8 * len(prices)) # 80% train, 20% test\n",
        "\n",
        "# Create train data splits (everything before the split)\n",
        "X_train, y_train = timesteps[:split_size], prices[:split_size]\n",
        "\n",
        "# Create test data splits (everything after the split)\n",
        "X_test, y_test = timesteps[split_size:], prices[split_size:]\n",
        "\n",
        "len(X_train), len(X_test), len(y_train), len(y_test)"
      ],
      "metadata": {
        "colab": {
          "base_uri": "https://localhost:8080/"
        },
        "id": "bNg1WbbHMYZ5",
        "outputId": "19ba4f47-8435-4130-eb96-3cd558e46521"
      },
      "execution_count": 13,
      "outputs": [
        {
          "output_type": "execute_result",
          "data": {
            "text/plain": [
              "(2229, 558, 2229, 558)"
            ]
          },
          "metadata": {},
          "execution_count": 13
        }
      ]
    },
    {
      "cell_type": "code",
      "source": [
        "plt.figure(figsize=(10, 7))\n",
        "plt.scatter(X_train, y_train, s=5, label=\"Train data\")\n",
        "plt.scatter(X_test, y_test, s=5, label=\"Test data\")\n",
        "plt.xlabel(\"Date\")\n",
        "plt.ylabel(\"BTC Price\")\n",
        "plt.legend(fontsize=14)\n",
        "plt.show()"
      ],
      "metadata": {
        "colab": {
          "base_uri": "https://localhost:8080/",
          "height": 442
        },
        "id": "Mqldz0JSMblV",
        "outputId": "ea69b745-48d8-4e8d-a32e-9eaa97830754"
      },
      "execution_count": 14,
      "outputs": [
        {
          "output_type": "display_data",
          "data": {
            "text/plain": [
              "<Figure size 720x504 with 1 Axes>"
            ],
            "image/png": "[encoded data removed]"
          },
          "metadata": {
            "needs_background": "light"
          }
        }
      ]
    },
    {
      "cell_type": "code",
      "source": [
        "def mean_absolute_scaled_error(y_true, y_pred):\n",
        "  \"\"\"\n",
        "  Implement MASE (assuming no seasonality of data).\n",
        "  \"\"\"\n",
        "  mae = tf.reduce_mean(tf.abs(y_true - y_pred))\n",
        "\n",
        "  # Find MAE of naive forecast (no seasonality)\n",
        "  mae_naive_no_season = tf.reduce_mean(tf.abs(y_true[1:] - y_true[:-1])) # our seasonality is 1 day (hence the shifting of 1 day)\n",
        "\n",
        "  return mae / mae_naive_no_season"
      ],
      "metadata": {
        "id": "kkmaMURjMeV3"
      },
      "execution_count": 15,
      "outputs": []
    },
    {
      "cell_type": "code",
      "source": [
        "def evaluate_preds(y_true, y_pred):\n",
        "  # Make sure float32 (for metric calculations)\n",
        "  y_true = tf.cast(y_true, dtype=tf.float32)\n",
        "  y_pred = tf.cast(y_pred, dtype=tf.float32)\n",
        "\n",
        "  # Calculate various metrics\n",
        "  mae = tf.keras.metrics.mean_absolute_error(y_true, y_pred)\n",
        "  mse = tf.keras.metrics.mean_squared_error(y_true, y_pred) # puts and emphasis on outliers (all errors get squared)\n",
        "  rmse = tf.sqrt(mse)\n",
        "  mape = tf.keras.metrics.mean_absolute_percentage_error(y_true, y_pred)\n",
        "  mase = mean_absolute_scaled_error(y_true, y_pred)\n",
        "  \n",
        "  return {\"mae\": mae.numpy(),\n",
        "          \"mse\": mse.numpy(),\n",
        "          \"rmse\": rmse.numpy(),\n",
        "          \"mape\": mape.numpy(),\n",
        "          \"mase\": mase.numpy()}"
      ],
      "metadata": {
        "id": "Q3m-EQ4uMocG"
      },
      "execution_count": 16,
      "outputs": []
    },
    {
      "cell_type": "code",
      "source": [
        "HORIZON = 1 # predict 1 step at a time\n",
        "WINDOW_SIZE = 7 # use a week worth of timesteps to predict the horizon"
      ],
      "metadata": {
        "id": "BXAnFSmsMrez"
      },
      "execution_count": 17,
      "outputs": []
    },
    {
      "cell_type": "code",
      "source": [
        "def get_labelled_windows(x, horizon=1):\n",
        "  \"\"\"\n",
        "  Creates labels for windowed dataset.\n",
        "\n",
        "  E.g. if horizon=1 (default)\n",
        "  Input: [1, 2, 3, 4, 5, 6] -> Output: ([1, 2, 3, 4, 5], [6])\n",
        "  \"\"\"\n",
        "  return x[:, :-horizon], x[:, -horizon:]"
      ],
      "metadata": {
        "id": "VY7OXYYPMx21"
      },
      "execution_count": 18,
      "outputs": []
    },
    {
      "cell_type": "code",
      "source": [
        "test_window, test_label = get_labelled_windows(tf.expand_dims(tf.range(8)+1, axis=0), horizon=HORIZON)\n",
        "print(f\"Window: {tf.squeeze(test_window).numpy()} -> Label: {tf.squeeze(test_label).numpy()}\")"
      ],
      "metadata": {
        "colab": {
          "base_uri": "https://localhost:8080/"
        },
        "id": "7IQYHYGPM0c2",
        "outputId": "a4820794-01ca-44c2-aa80-82eadce5582e"
      },
      "execution_count": 19,
      "outputs": [
        {
          "output_type": "stream",
          "name": "stdout",
          "text": [
            "Window: [1 2 3 4 5 6 7] -> Label: 8\n"
          ]
        }
      ]
    },
    {
      "cell_type": "code",
      "source": [
        "def make_windows(x, window_size=7, horizon=1):\n",
        "  \"\"\"\n",
        "  Turns a 1D array into a 2D array of sequential windows of window_size.\n",
        "  \"\"\"\n",
        "  # 1. Create a window of specific window_size (add the horizon on the end for later labelling)\n",
        "  window_step = np.expand_dims(np.arange(window_size+horizon), axis=0)\n",
        "  # print(f\"Window step:\\n {window_step}\")\n",
        "\n",
        "  # 2. Create a 2D array of multiple window steps (minus 1 to account for 0 indexing)\n",
        "  window_indexes = window_step + np.expand_dims(np.arange(len(x)-(window_size+horizon-1)), axis=0).T # create 2D array of windows of size window_size\n",
        "  # print(f\"Window indexes:\\n {window_indexes[:3], window_indexes[-3:], window_indexes.shape}\")\n",
        "\n",
        "  # 3. Index on the target array (time series) with 2D array of multiple window steps\n",
        "  windowed_array = x[window_indexes]\n",
        "\n",
        "  # 4. Get the labelled windows\n",
        "  windows, labels = get_labelled_windows(windowed_array, horizon=horizon)\n",
        "\n",
        "  return windows, labels"
      ],
      "metadata": {
        "id": "u_cGYyEtM2jl"
      },
      "execution_count": 20,
      "outputs": []
    },
    {
      "cell_type": "code",
      "source": [
        "full_windows, full_labels = make_windows(prices, window_size=WINDOW_SIZE, horizon=HORIZON)\n",
        "len(full_windows), len(full_labels)"
      ],
      "metadata": {
        "colab": {
          "base_uri": "https://localhost:8080/"
        },
        "id": "ccjCMoRaM41n",
        "outputId": "8096d7bb-bbf1-42aa-a53b-9ccc94ac21de"
      },
      "execution_count": 21,
      "outputs": [
        {
          "output_type": "execute_result",
          "data": {
            "text/plain": [
              "(2780, 2780)"
            ]
          },
          "metadata": {},
          "execution_count": 21
        }
      ]
    },
    {
      "cell_type": "code",
      "source": [
        "def plot_time_series(timesteps, values, format='.', start=0, end=None, label=None):\n",
        "  \"\"\"\n",
        "  Plots a timesteps (a series of points in time) against values (a series of values across timesteps).\n",
        "  \n",
        "  Parameters\n",
        "  ---------\n",
        "  timesteps : array of timesteps\n",
        "  values : array of values across time\n",
        "  format : style of plot, default \".\"\n",
        "  start : where to start the plot (setting a value will index from start of timesteps & values)\n",
        "  end : where to end the plot (setting a value will index from end of timesteps & values)\n",
        "  label : label to show on plot of values\n",
        "  \"\"\"\n",
        "  # Plot the series\n",
        "  plt.plot(timesteps[start:end], values[start:end], format, label=label)\n",
        "  plt.xlabel(\"Time\")\n",
        "  plt.ylabel(\"BTC Price\")\n",
        "  if label:\n",
        "    plt.legend(fontsize=14) # make label bigger\n",
        "  plt.grid(True)"
      ],
      "metadata": {
        "id": "5K0jOe2YN2U0"
      },
      "execution_count": 34,
      "outputs": []
    },
    {
      "cell_type": "code",
      "source": [
        "def make_train_test_splits(windows, labels, test_split=0.2):\n",
        "  \"\"\"\n",
        "  Splits matching pairs of windows and labels into train and test splits.\n",
        "  \"\"\"\n",
        "  split_size = int(len(windows) * (1-test_split)) # this will default to 80% train/20% test\n",
        "  train_windows = windows[:split_size]\n",
        "  train_labels = labels[:split_size]\n",
        "  test_windows = windows[split_size:]\n",
        "  test_labels = labels[split_size:]\n",
        "  return train_windows, test_windows, train_labels, test_labels"
      ],
      "metadata": {
        "id": "8njgU6D0M6yi"
      },
      "execution_count": 22,
      "outputs": []
    },
    {
      "cell_type": "code",
      "source": [
        "train_windows, test_windows, train_labels, test_labels = make_train_test_splits(full_windows, full_labels)\n",
        "len(train_windows), len(test_windows), len(train_labels), len(test_labels)"
      ],
      "metadata": {
        "colab": {
          "base_uri": "https://localhost:8080/"
        },
        "id": "xc5n3yUDNBdf",
        "outputId": "d2c37041-e373-45d1-e022-c029b6a4bf68"
      },
      "execution_count": 23,
      "outputs": [
        {
          "output_type": "execute_result",
          "data": {
            "text/plain": [
              "(2224, 556, 2224, 556)"
            ]
          },
          "metadata": {},
          "execution_count": 23
        }
      ]
    },
    {
      "cell_type": "code",
      "source": [
        "def create_model_checkpoint(model_name, save_path=\"model_experiments\"):\n",
        "    return tf.keras.callbacks.ModelCheckpoint(filepath=os.path.join(save_path, model_name), # create filepath to save model\n",
        "                                            verbose=0, # only output a limited amount of text\n",
        "                                            save_best_only=True) # save only the best model to file"
      ],
      "metadata": {
        "id": "4Ub21erZNDEe"
      },
      "execution_count": 24,
      "outputs": []
    },
    {
      "cell_type": "code",
      "source": [
        "tf.random.set_seed(69)\n",
        "\n",
        "# Construct model\n",
        "model_1 = tf.keras.Sequential([\n",
        "  layers.Dense(128, activation=\"relu\"),\n",
        "  layers.Dense(HORIZON, activation=\"linear\") # linear activation is the same as having no activation                        \n",
        "], name=\"model_1_dense\") # give the model a name so we can save it\n",
        "\n",
        "# Compile model\n",
        "model_1.compile(loss=\"mae\",\n",
        "                optimizer=tf.keras.optimizers.Adam(),\n",
        "                metrics=[\"mae\"]) # we don't necessarily need this when the loss function is already MAE\n",
        "\n",
        "# Fit model\n",
        "model_1.fit(x=train_windows, # train windows of 7 timesteps of Bitcoin prices\n",
        "            y=train_labels, # horizon value of 1 (using the previous 7 timesteps to predict next day)\n",
        "            epochs=100,\n",
        "            verbose=1,\n",
        "            batch_size=128,\n",
        "            validation_data=(test_windows, test_labels),\n",
        "            callbacks=[create_model_checkpoint(model_name=model_1.name)])"
      ],
      "metadata": {
        "colab": {
          "base_uri": "https://localhost:8080/"
        },
        "id": "YTF8qcRUNJoq",
        "outputId": "925e84e3-bc15-4e55-b224-7dd072efe5a3"
      },
      "execution_count": 27,
      "outputs": [
        {
          "output_type": "stream",
          "name": "stdout",
          "text": [
            "Epoch 1/100\n",
            " 1/18 [>.............................] - ETA: 10s - loss: 2171.9595 - mae: 2171.9595INFO:tensorflow:Assets written to: model_experiments/model_1_dense/assets\n",
            "18/18 [==============================] - 1s 44ms/step - loss: 772.4299 - mae: 772.4299 - val_loss: 1986.7781 - val_mae: 1986.7781\n",
            "Epoch 2/100\n",
            " 1/18 [>.............................] - ETA: 0s - loss: 485.5089 - mae: 485.5089INFO:tensorflow:Assets written to: model_experiments/model_1_dense/assets\n",
            "18/18 [==============================] - 0s 27ms/step - loss: 263.4286 - mae: 263.4286 - val_loss: 1286.1119 - val_mae: 1286.1119\n",
            "Epoch 3/100\n",
            " 1/18 [>.............................] - ETA: 0s - loss: 189.7928 - mae: 189.7928INFO:tensorflow:Assets written to: model_experiments/model_1_dense/assets\n",
            "18/18 [==============================] - 0s 26ms/step - loss: 214.0277 - mae: 214.0277 - val_loss: 1109.0988 - val_mae: 1109.0988\n",
            "Epoch 4/100\n",
            " 1/18 [>.............................] - ETA: 0s - loss: 231.6412 - mae: 231.6412INFO:tensorflow:Assets written to: model_experiments/model_1_dense/assets\n",
            "18/18 [==============================] - 0s 27ms/step - loss: 195.5642 - mae: 195.5642 - val_loss: 1051.7456 - val_mae: 1051.7456\n",
            "Epoch 5/100\n",
            " 1/18 [>.............................] - ETA: 0s - loss: 239.3770 - mae: 239.3770INFO:tensorflow:Assets written to: model_experiments/model_1_dense/assets\n",
            "18/18 [==============================] - 1s 41ms/step - loss: 185.0747 - mae: 185.0747 - val_loss: 1021.2492 - val_mae: 1021.2492\n",
            "Epoch 6/100\n",
            " 1/18 [>.............................] - ETA: 0s - loss: 183.0530 - mae: 183.0530INFO:tensorflow:Assets written to: model_experiments/model_1_dense/assets\n",
            "18/18 [==============================] - 0s 27ms/step - loss: 178.3900 - mae: 178.3900 - val_loss: 999.6423 - val_mae: 999.6423\n",
            "Epoch 7/100\n",
            " 1/18 [>.............................] - ETA: 0s - loss: 178.3629 - mae: 178.3629INFO:tensorflow:Assets written to: model_experiments/model_1_dense/assets\n",
            "18/18 [==============================] - 0s 28ms/step - loss: 173.3563 - mae: 173.3563 - val_loss: 980.6644 - val_mae: 980.6644\n",
            "Epoch 8/100\n",
            "18/18 [==============================] - 0s 4ms/step - loss: 168.4763 - mae: 168.4763 - val_loss: 1051.4440 - val_mae: 1051.4440\n",
            "Epoch 9/100\n",
            "18/18 [==============================] - 0s 3ms/step - loss: 169.9839 - mae: 169.9839 - val_loss: 1001.7556 - val_mae: 1001.7556\n",
            "Epoch 10/100\n",
            " 1/18 [>.............................] - ETA: 0s - loss: 144.1140 - mae: 144.1140INFO:tensorflow:Assets written to: model_experiments/model_1_dense/assets\n",
            "18/18 [==============================] - 0s 27ms/step - loss: 164.9522 - mae: 164.9522 - val_loss: 910.7905 - val_mae: 910.7905\n",
            "Epoch 11/100\n",
            " 1/18 [>.............................] - ETA: 0s - loss: 162.5034 - mae: 162.5034INFO:tensorflow:Assets written to: model_experiments/model_1_dense/assets\n",
            "18/18 [==============================] - 0s 28ms/step - loss: 154.1447 - mae: 154.1447 - val_loss: 867.3873 - val_mae: 867.3873\n",
            "Epoch 12/100\n",
            " 1/18 [>.............................] - ETA: 0s - loss: 112.7869 - mae: 112.7869INFO:tensorflow:Assets written to: model_experiments/model_1_dense/assets\n",
            "18/18 [==============================] - 0s 28ms/step - loss: 158.8662 - mae: 158.8662 - val_loss: 859.8679 - val_mae: 859.8678\n",
            "Epoch 13/100\n",
            "18/18 [==============================] - 0s 4ms/step - loss: 146.8602 - mae: 146.8602 - val_loss: 876.7324 - val_mae: 876.7324\n",
            "Epoch 14/100\n",
            " 1/18 [>.............................] - ETA: 0s - loss: 137.1056 - mae: 137.1056INFO:tensorflow:Assets written to: model_experiments/model_1_dense/assets\n",
            "18/18 [==============================] - 0s 27ms/step - loss: 143.1853 - mae: 143.1853 - val_loss: 786.9947 - val_mae: 786.9947\n",
            "Epoch 15/100\n",
            " 1/18 [>.............................] - ETA: 0s - loss: 93.0382 - mae: 93.0382INFO:tensorflow:Assets written to: model_experiments/model_1_dense/assets\n",
            "18/18 [==============================] - 1s 29ms/step - loss: 138.3896 - mae: 138.3896 - val_loss: 757.8892 - val_mae: 757.8892\n",
            "Epoch 16/100\n",
            " 1/18 [>.............................] - ETA: 0s - loss: 156.4998 - mae: 156.4998INFO:tensorflow:Assets written to: model_experiments/model_1_dense/assets\n",
            "18/18 [==============================] - 0s 27ms/step - loss: 139.1019 - mae: 139.1019 - val_loss: 742.0359 - val_mae: 742.0359\n",
            "Epoch 17/100\n",
            "18/18 [==============================] - 0s 4ms/step - loss: 135.9732 - mae: 135.9732 - val_loss: 764.5950 - val_mae: 764.5950\n",
            "Epoch 18/100\n",
            " 1/18 [>.............................] - ETA: 0s - loss: 128.4043 - mae: 128.4043INFO:tensorflow:Assets written to: model_experiments/model_1_dense/assets\n",
            "18/18 [==============================] - 0s 28ms/step - loss: 131.4414 - mae: 131.4414 - val_loss: 721.4486 - val_mae: 721.4486\n",
            "Epoch 19/100\n",
            " 1/18 [>.............................] - ETA: 0s - loss: 126.7021 - mae: 126.7021INFO:tensorflow:Assets written to: model_experiments/model_1_dense/assets\n",
            "18/18 [==============================] - 0s 27ms/step - loss: 128.4924 - mae: 128.4924 - val_loss: 701.3621 - val_mae: 701.3621\n",
            "Epoch 20/100\n",
            " 1/18 [>.............................] - ETA: 0s - loss: 122.3051 - mae: 122.3051INFO:tensorflow:Assets written to: model_experiments/model_1_dense/assets\n",
            "18/18 [==============================] - 0s 29ms/step - loss: 126.4510 - mae: 126.4510 - val_loss: 700.4843 - val_mae: 700.4843\n",
            "Epoch 21/100\n",
            "18/18 [==============================] - 0s 3ms/step - loss: 124.7859 - mae: 124.7859 - val_loss: 815.8035 - val_mae: 815.8035\n",
            "Epoch 22/100\n",
            " 1/18 [>.............................] - ETA: 0s - loss: 139.5311 - mae: 139.5311INFO:tensorflow:Assets written to: model_experiments/model_1_dense/assets\n",
            "18/18 [==============================] - 0s 28ms/step - loss: 130.5347 - mae: 130.5347 - val_loss: 672.5661 - val_mae: 672.5661\n",
            "Epoch 23/100\n",
            " 1/18 [>.............................] - ETA: 0s - loss: 113.4646 - mae: 113.4646INFO:tensorflow:Assets written to: model_experiments/model_1_dense/assets\n",
            "18/18 [==============================] - 0s 27ms/step - loss: 127.5904 - mae: 127.5904 - val_loss: 659.5277 - val_mae: 659.5277\n",
            "Epoch 24/100\n",
            " 1/18 [>.............................] - ETA: 0s - loss: 115.6161 - mae: 115.6161INFO:tensorflow:Assets written to: model_experiments/model_1_dense/assets\n",
            "18/18 [==============================] - 0s 27ms/step - loss: 120.8256 - mae: 120.8256 - val_loss: 652.7462 - val_mae: 652.7462\n",
            "Epoch 25/100\n",
            " 1/18 [>.............................] - ETA: 0s - loss: 84.7162 - mae: 84.7162INFO:tensorflow:Assets written to: model_experiments/model_1_dense/assets\n",
            "18/18 [==============================] - 0s 26ms/step - loss: 118.8559 - mae: 118.8559 - val_loss: 646.4440 - val_mae: 646.4440\n",
            "Epoch 26/100\n",
            "18/18 [==============================] - 0s 3ms/step - loss: 123.8409 - mae: 123.8409 - val_loss: 677.4011 - val_mae: 677.4011\n",
            "Epoch 27/100\n",
            "18/18 [==============================] - 0s 4ms/step - loss: 119.3021 - mae: 119.3021 - val_loss: 654.6871 - val_mae: 654.6871\n",
            "Epoch 28/100\n",
            "18/18 [==============================] - 0s 3ms/step - loss: 122.8935 - mae: 122.8935 - val_loss: 655.2580 - val_mae: 655.2580\n",
            "Epoch 29/100\n",
            " 1/18 [>.............................] - ETA: 0s - loss: 70.9111 - mae: 70.9111INFO:tensorflow:Assets written to: model_experiments/model_1_dense/assets\n",
            "18/18 [==============================] - 1s 39ms/step - loss: 118.2856 - mae: 118.2856 - val_loss: 639.6528 - val_mae: 639.6528\n",
            "Epoch 30/100\n",
            "18/18 [==============================] - 0s 3ms/step - loss: 118.0728 - mae: 118.0728 - val_loss: 648.7261 - val_mae: 648.7261\n",
            "Epoch 31/100\n",
            " 1/18 [>.............................] - ETA: 0s - loss: 123.9544 - mae: 123.9544INFO:tensorflow:Assets written to: model_experiments/model_1_dense/assets\n",
            "18/18 [==============================] - 0s 27ms/step - loss: 117.4460 - mae: 117.4460 - val_loss: 617.9311 - val_mae: 617.9311\n",
            "Epoch 32/100\n",
            " 1/18 [>.............................] - ETA: 0s - loss: 105.4015 - mae: 105.4015INFO:tensorflow:Assets written to: model_experiments/model_1_dense/assets\n",
            "18/18 [==============================] - 0s 26ms/step - loss: 115.7128 - mae: 115.7128 - val_loss: 614.1105 - val_mae: 614.1105\n",
            "Epoch 33/100\n",
            "18/18 [==============================] - 0s 4ms/step - loss: 119.9454 - mae: 119.9454 - val_loss: 635.8981 - val_mae: 635.8981\n",
            "Epoch 34/100\n",
            "18/18 [==============================] - 0s 3ms/step - loss: 118.2637 - mae: 118.2637 - val_loss: 615.5809 - val_mae: 615.5809\n",
            "Epoch 35/100\n",
            "18/18 [==============================] - 0s 3ms/step - loss: 115.1816 - mae: 115.1816 - val_loss: 638.0185 - val_mae: 638.0185\n",
            "Epoch 36/100\n",
            " 1/18 [>.............................] - ETA: 0s - loss: 114.5708 - mae: 114.5708INFO:tensorflow:Assets written to: model_experiments/model_1_dense/assets\n",
            "18/18 [==============================] - 0s 29ms/step - loss: 125.1036 - mae: 125.1036 - val_loss: 608.5789 - val_mae: 608.5789\n",
            "Epoch 37/100\n",
            " 1/18 [>.............................] - ETA: 0s - loss: 123.4729 - mae: 123.4729INFO:tensorflow:Assets written to: model_experiments/model_1_dense/assets\n",
            "18/18 [==============================] - 0s 27ms/step - loss: 112.9932 - mae: 112.9932 - val_loss: 602.7185 - val_mae: 602.7185\n",
            "Epoch 38/100\n",
            "18/18 [==============================] - 0s 4ms/step - loss: 111.8794 - mae: 111.8794 - val_loss: 604.4246 - val_mae: 604.4246\n",
            "Epoch 39/100\n",
            " 1/18 [>.............................] - ETA: 0s - loss: 146.1604 - mae: 146.1604INFO:tensorflow:Assets written to: model_experiments/model_1_dense/assets\n",
            "18/18 [==============================] - 0s 27ms/step - loss: 111.5279 - mae: 111.5279 - val_loss: 601.2834 - val_mae: 601.2834\n",
            "Epoch 40/100\n",
            "18/18 [==============================] - 0s 4ms/step - loss: 115.6802 - mae: 115.6802 - val_loss: 686.7650 - val_mae: 686.7650\n",
            "Epoch 41/100\n",
            "18/18 [==============================] - 0s 3ms/step - loss: 118.5094 - mae: 118.5094 - val_loss: 774.9387 - val_mae: 774.9387\n",
            "Epoch 42/100\n",
            " 1/18 [>.............................] - ETA: 0s - loss: 130.0609 - mae: 130.0609INFO:tensorflow:Assets written to: model_experiments/model_1_dense/assets\n",
            "18/18 [==============================] - 0s 27ms/step - loss: 123.9221 - mae: 123.9221 - val_loss: 593.0100 - val_mae: 593.0100\n",
            "Epoch 43/100\n",
            "18/18 [==============================] - 0s 4ms/step - loss: 111.3023 - mae: 111.3023 - val_loss: 593.4974 - val_mae: 593.4974\n",
            "Epoch 44/100\n",
            "18/18 [==============================] - 0s 4ms/step - loss: 111.5772 - mae: 111.5772 - val_loss: 595.2233 - val_mae: 595.2233\n",
            "Epoch 45/100\n",
            "18/18 [==============================] - 0s 4ms/step - loss: 119.9625 - mae: 119.9625 - val_loss: 640.1420 - val_mae: 640.1420\n",
            "Epoch 46/100\n",
            "18/18 [==============================] - 0s 4ms/step - loss: 111.8935 - mae: 111.8935 - val_loss: 656.9936 - val_mae: 656.9936\n",
            "Epoch 47/100\n",
            " 1/18 [>.............................] - ETA: 0s - loss: 106.2042 - mae: 106.2042INFO:tensorflow:Assets written to: model_experiments/model_1_dense/assets\n",
            "18/18 [==============================] - 0s 28ms/step - loss: 115.6269 - mae: 115.6269 - val_loss: 592.4564 - val_mae: 592.4564\n",
            "Epoch 48/100\n",
            " 1/18 [>.............................] - ETA: 0s - loss: 104.2142 - mae: 104.2142INFO:tensorflow:Assets written to: model_experiments/model_1_dense/assets\n",
            "18/18 [==============================] - 0s 28ms/step - loss: 115.3187 - mae: 115.3187 - val_loss: 592.3466 - val_mae: 592.3466\n",
            "Epoch 49/100\n",
            " 1/18 [>.............................] - ETA: 0s - loss: 99.7946 - mae: 99.7946INFO:tensorflow:Assets written to: model_experiments/model_1_dense/assets\n",
            "18/18 [==============================] - 0s 28ms/step - loss: 109.9980 - mae: 109.9980 - val_loss: 579.8227 - val_mae: 579.8227\n",
            "Epoch 50/100\n",
            "18/18 [==============================] - 0s 3ms/step - loss: 108.8479 - mae: 108.8479 - val_loss: 582.1760 - val_mae: 582.1760\n",
            "Epoch 51/100\n",
            " 1/18 [>.............................] - ETA: 0s - loss: 101.1395 - mae: 101.1395INFO:tensorflow:Assets written to: model_experiments/model_1_dense/assets\n",
            "18/18 [==============================] - 0s 28ms/step - loss: 108.5864 - mae: 108.5864 - val_loss: 577.4107 - val_mae: 577.4107\n",
            "Epoch 52/100\n",
            "18/18 [==============================] - 0s 3ms/step - loss: 110.6457 - mae: 110.6457 - val_loss: 605.5180 - val_mae: 605.5180\n",
            "Epoch 53/100\n",
            "18/18 [==============================] - 0s 3ms/step - loss: 111.1604 - mae: 111.1604 - val_loss: 585.5898 - val_mae: 585.5898\n",
            "Epoch 54/100\n",
            "18/18 [==============================] - 0s 4ms/step - loss: 112.9158 - mae: 112.9158 - val_loss: 647.8510 - val_mae: 647.8510\n",
            "Epoch 55/100\n",
            "18/18 [==============================] - 0s 3ms/step - loss: 114.7231 - mae: 114.7231 - val_loss: 688.5164 - val_mae: 688.5164\n",
            "Epoch 56/100\n",
            "18/18 [==============================] - 0s 3ms/step - loss: 112.1653 - mae: 112.1653 - val_loss: 597.7131 - val_mae: 597.7131\n",
            "Epoch 57/100\n",
            "18/18 [==============================] - 0s 3ms/step - loss: 114.3971 - mae: 114.3971 - val_loss: 776.2925 - val_mae: 776.2925\n",
            "Epoch 58/100\n",
            "18/18 [==============================] - 0s 3ms/step - loss: 118.6724 - mae: 118.6724 - val_loss: 577.6788 - val_mae: 577.6788\n",
            "Epoch 59/100\n",
            "18/18 [==============================] - 0s 3ms/step - loss: 111.6724 - mae: 111.6724 - val_loss: 587.9684 - val_mae: 587.9684\n",
            "Epoch 60/100\n",
            "18/18 [==============================] - 0s 3ms/step - loss: 114.7047 - mae: 114.7047 - val_loss: 651.7213 - val_mae: 651.7213\n",
            "Epoch 61/100\n",
            " 1/18 [>.............................] - ETA: 0s - loss: 104.5455 - mae: 104.5455INFO:tensorflow:Assets written to: model_experiments/model_1_dense/assets\n",
            "18/18 [==============================] - 0s 27ms/step - loss: 116.3992 - mae: 116.3992 - val_loss: 573.0390 - val_mae: 573.0390\n",
            "Epoch 62/100\n",
            "18/18 [==============================] - 0s 3ms/step - loss: 112.4801 - mae: 112.4801 - val_loss: 627.4727 - val_mae: 627.4727\n",
            "Epoch 63/100\n",
            "18/18 [==============================] - 0s 4ms/step - loss: 113.4168 - mae: 113.4168 - val_loss: 710.7964 - val_mae: 710.7964\n",
            "Epoch 64/100\n",
            "18/18 [==============================] - 0s 3ms/step - loss: 111.3777 - mae: 111.3777 - val_loss: 585.1484 - val_mae: 585.1484\n",
            "Epoch 65/100\n",
            " 1/18 [>.............................] - ETA: 0s - loss: 100.9686 - mae: 100.9686INFO:tensorflow:Assets written to: model_experiments/model_1_dense/assets\n",
            "18/18 [==============================] - 0s 27ms/step - loss: 108.1261 - mae: 108.1261 - val_loss: 571.6583 - val_mae: 571.6583\n",
            "Epoch 66/100\n",
            "18/18 [==============================] - 0s 3ms/step - loss: 108.2694 - mae: 108.2694 - val_loss: 575.0258 - val_mae: 575.0258\n",
            "Epoch 67/100\n",
            "18/18 [==============================] - 0s 4ms/step - loss: 110.7905 - mae: 110.7905 - val_loss: 587.5696 - val_mae: 587.5696\n",
            "Epoch 68/100\n",
            "18/18 [==============================] - 0s 3ms/step - loss: 114.2133 - mae: 114.2133 - val_loss: 745.4850 - val_mae: 745.4850\n",
            "Epoch 69/100\n",
            "18/18 [==============================] - 0s 4ms/step - loss: 112.8143 - mae: 112.8143 - val_loss: 580.4072 - val_mae: 580.4072\n",
            "Epoch 70/100\n",
            "18/18 [==============================] - 0s 4ms/step - loss: 106.6171 - mae: 106.6171 - val_loss: 578.3832 - val_mae: 578.3832\n",
            "Epoch 71/100\n",
            "18/18 [==============================] - 0s 3ms/step - loss: 107.5682 - mae: 107.5682 - val_loss: 587.5486 - val_mae: 587.5486\n",
            "Epoch 72/100\n",
            "18/18 [==============================] - 0s 3ms/step - loss: 107.1626 - mae: 107.1626 - val_loss: 574.2415 - val_mae: 574.2415\n",
            "Epoch 73/100\n",
            "18/18 [==============================] - 0s 4ms/step - loss: 107.2482 - mae: 107.2482 - val_loss: 572.9214 - val_mae: 572.9214\n",
            "Epoch 74/100\n",
            " 1/18 [>.............................] - ETA: 0s - loss: 117.5839 - mae: 117.5839INFO:tensorflow:Assets written to: model_experiments/model_1_dense/assets\n",
            "18/18 [==============================] - 1s 41ms/step - loss: 107.0803 - mae: 107.0803 - val_loss: 569.2188 - val_mae: 569.2188\n",
            "Epoch 75/100\n",
            "18/18 [==============================] - 0s 3ms/step - loss: 109.6318 - mae: 109.6318 - val_loss: 587.9458 - val_mae: 587.9458\n",
            "Epoch 76/100\n",
            "18/18 [==============================] - 0s 4ms/step - loss: 112.2285 - mae: 112.2285 - val_loss: 608.9718 - val_mae: 608.9718\n",
            "Epoch 77/100\n",
            "18/18 [==============================] - 0s 4ms/step - loss: 115.0185 - mae: 115.0185 - val_loss: 847.4902 - val_mae: 847.4902\n",
            "Epoch 78/100\n",
            "18/18 [==============================] - 0s 3ms/step - loss: 114.3839 - mae: 114.3839 - val_loss: 578.8338 - val_mae: 578.8338\n",
            "Epoch 79/100\n",
            "18/18 [==============================] - 0s 3ms/step - loss: 106.6813 - mae: 106.6813 - val_loss: 694.3523 - val_mae: 694.3523\n",
            "Epoch 80/100\n",
            "18/18 [==============================] - 0s 3ms/step - loss: 111.8591 - mae: 111.8591 - val_loss: 701.0790 - val_mae: 701.0790\n",
            "Epoch 81/100\n",
            "18/18 [==============================] - 0s 3ms/step - loss: 111.8588 - mae: 111.8588 - val_loss: 582.8813 - val_mae: 582.8813\n",
            "Epoch 82/100\n",
            "18/18 [==============================] - 0s 3ms/step - loss: 116.8395 - mae: 116.8395 - val_loss: 676.9742 - val_mae: 676.9742\n",
            "Epoch 83/100\n",
            "18/18 [==============================] - 0s 3ms/step - loss: 109.5024 - mae: 109.5024 - val_loss: 574.5714 - val_mae: 574.5714\n",
            "Epoch 84/100\n",
            "18/18 [==============================] - 0s 4ms/step - loss: 109.5271 - mae: 109.5271 - val_loss: 595.8613 - val_mae: 595.8613\n",
            "Epoch 85/100\n",
            "18/18 [==============================] - 0s 4ms/step - loss: 110.1138 - mae: 110.1138 - val_loss: 615.8582 - val_mae: 615.8582\n",
            "Epoch 86/100\n",
            "18/18 [==============================] - 0s 4ms/step - loss: 107.1988 - mae: 107.1988 - val_loss: 575.7175 - val_mae: 575.7175\n",
            "Epoch 87/100\n",
            " 1/18 [>.............................] - ETA: 0s - loss: 82.0129 - mae: 82.0129INFO:tensorflow:Assets written to: model_experiments/model_1_dense/assets\n",
            "18/18 [==============================] - 0s 27ms/step - loss: 107.7277 - mae: 107.7277 - val_loss: 568.5872 - val_mae: 568.5872\n",
            "Epoch 88/100\n",
            "18/18 [==============================] - 0s 4ms/step - loss: 106.6648 - mae: 106.6648 - val_loss: 606.7165 - val_mae: 606.7165\n",
            "Epoch 89/100\n",
            " 1/18 [>.............................] - ETA: 0s - loss: 129.7767 - mae: 129.7767INFO:tensorflow:Assets written to: model_experiments/model_1_dense/assets\n",
            "18/18 [==============================] - 0s 28ms/step - loss: 107.9356 - mae: 107.9356 - val_loss: 566.4488 - val_mae: 566.4488\n",
            "Epoch 90/100\n",
            "18/18 [==============================] - 0s 3ms/step - loss: 111.3996 - mae: 111.3996 - val_loss: 625.3380 - val_mae: 625.3380\n",
            "Epoch 91/100\n",
            "18/18 [==============================] - 0s 3ms/step - loss: 116.1623 - mae: 116.1623 - val_loss: 631.2039 - val_mae: 631.2039\n",
            "Epoch 92/100\n",
            "18/18 [==============================] - 0s 4ms/step - loss: 107.1606 - mae: 107.1606 - val_loss: 567.7626 - val_mae: 567.7626\n",
            "Epoch 93/100\n",
            "18/18 [==============================] - 0s 4ms/step - loss: 110.3066 - mae: 110.3066 - val_loss: 587.9241 - val_mae: 587.9241\n",
            "Epoch 94/100\n",
            "18/18 [==============================] - 0s 4ms/step - loss: 108.0811 - mae: 108.0811 - val_loss: 569.1193 - val_mae: 569.1193\n",
            "Epoch 95/100\n",
            "18/18 [==============================] - 0s 3ms/step - loss: 105.5536 - mae: 105.5536 - val_loss: 566.9333 - val_mae: 566.9333\n",
            "Epoch 96/100\n",
            "18/18 [==============================] - 0s 4ms/step - loss: 108.9993 - mae: 108.9993 - val_loss: 587.1433 - val_mae: 587.1433\n",
            "Epoch 97/100\n",
            "18/18 [==============================] - 0s 4ms/step - loss: 108.3946 - mae: 108.3946 - val_loss: 579.7301 - val_mae: 579.7301\n",
            "Epoch 98/100\n",
            "18/18 [==============================] - 0s 3ms/step - loss: 105.6999 - mae: 105.6999 - val_loss: 567.6332 - val_mae: 567.6332\n",
            "Epoch 99/100\n",
            "18/18 [==============================] - 0s 4ms/step - loss: 106.5282 - mae: 106.5282 - val_loss: 648.3001 - val_mae: 648.3001\n",
            "Epoch 100/100\n",
            "18/18 [==============================] - 0s 3ms/step - loss: 111.7399 - mae: 111.7399 - val_loss: 572.0499 - val_mae: 572.0499\n"
          ]
        },
        {
          "output_type": "execute_result",
          "data": {
            "text/plain": [
              "<keras.callbacks.History at 0x7f525a335790>"
            ]
          },
          "metadata": {},
          "execution_count": 27
        }
      ]
    },
    {
      "cell_type": "code",
      "source": [
        "model_1.evaluate(test_windows, test_labels)"
      ],
      "metadata": {
        "colab": {
          "base_uri": "https://localhost:8080/"
        },
        "id": "R5_6fvHlNRA3",
        "outputId": "ac4ce724-c4f8-48d6-fba7-9f1ab2e96dfe"
      },
      "execution_count": 28,
      "outputs": [
        {
          "output_type": "stream",
          "name": "stdout",
          "text": [
            "18/18 [==============================] - 0s 2ms/step - loss: 572.0499 - mae: 572.0499\n"
          ]
        },
        {
          "output_type": "execute_result",
          "data": {
            "text/plain": [
              "[572.0499267578125, 572.0499267578125]"
            ]
          },
          "metadata": {},
          "execution_count": 28
        }
      ]
    },
    {
      "cell_type": "code",
      "source": [
        "model_1 = tf.keras.models.load_model(\"model_experiments/model_1_dense\")\n",
        "model_1.evaluate(test_windows, test_labels)"
      ],
      "metadata": {
        "colab": {
          "base_uri": "https://localhost:8080/"
        },
        "id": "onsop01DNieg",
        "outputId": "cedb807a-225d-49b2-e301-bce480f07f63"
      },
      "execution_count": 29,
      "outputs": [
        {
          "output_type": "stream",
          "name": "stdout",
          "text": [
            "18/18 [==============================] - 0s 2ms/step - loss: 566.4489 - mae: 566.4489\n"
          ]
        },
        {
          "output_type": "execute_result",
          "data": {
            "text/plain": [
              "[566.4488525390625, 566.4488525390625]"
            ]
          },
          "metadata": {},
          "execution_count": 29
        }
      ]
    },
    {
      "cell_type": "code",
      "source": [
        "def make_preds(model, input_data):\n",
        "  \"\"\"\n",
        "  Uses model to make predictions on input_data.\n",
        "\n",
        "  Parameters\n",
        "  ----------\n",
        "  model: trained model \n",
        "  input_data: windowed input data (same kind of data model was trained on)\n",
        "\n",
        "  Returns model predictions on input_data.\n",
        "  \"\"\"\n",
        "  forecast = model.predict(input_data)\n",
        "  return tf.squeeze(forecast) # return 1D array of predictions"
      ],
      "metadata": {
        "id": "BR2JysSSNnCB"
      },
      "execution_count": 30,
      "outputs": []
    },
    {
      "cell_type": "code",
      "source": [
        "model_1_preds = make_preds(model_1, test_windows)\n",
        "len(model_1_preds), model_1_preds[:10]"
      ],
      "metadata": {
        "colab": {
          "base_uri": "https://localhost:8080/"
        },
        "id": "6IbPLqAlNp7g",
        "outputId": "753ea4de-a728-4e5a-ae62-1cbe32c04e3a"
      },
      "execution_count": 31,
      "outputs": [
        {
          "output_type": "execute_result",
          "data": {
            "text/plain": [
              "(556, <tf.Tensor: shape=(10,), dtype=float32, numpy=\n",
              " array([8857.825 , 8777.89  , 9036.474 , 8794.43  , 8728.09  , 8746.756 ,\n",
              "        8678.624 , 8517.8545, 8461.194 , 8527.674 ], dtype=float32)>)"
            ]
          },
          "metadata": {},
          "execution_count": 31
        }
      ]
    },
    {
      "cell_type": "code",
      "source": [
        "# Evaluate preds\n",
        "model_1_results = evaluate_preds(y_true=tf.squeeze(test_labels), # reduce to right shape\n",
        "                                 y_pred=model_1_preds)\n",
        "model_1_results"
      ],
      "metadata": {
        "colab": {
          "base_uri": "https://localhost:8080/"
        },
        "id": "7hMp2WCtNsSf",
        "outputId": "d3200d13-e3b2-4e8c-c6e3-01bf072762bd"
      },
      "execution_count": 32,
      "outputs": [
        {
          "output_type": "execute_result",
          "data": {
            "text/plain": [
              "{'mae': 566.4489,\n",
              " 'mape': 2.5262241,\n",
              " 'mase': 0.9950938,\n",
              " 'mse': 1163787.0,\n",
              " 'rmse': 1078.7896}"
            ]
          },
          "metadata": {},
          "execution_count": 32
        }
      ]
    },
    {
      "cell_type": "code",
      "source": [
        "offset = 300\n",
        "plt.figure(figsize=(10, 7))\n",
        "# Account for the test_window offset and index into test_labels to ensure correct plotting\n",
        "plot_time_series(timesteps=X_test[-len(test_windows):], values=test_labels[:, 0], start=offset, label=\"Test_data\")\n",
        "plot_time_series(timesteps=X_test[-len(test_windows):], values=model_1_preds, start=offset, format=\"-\", label=\"model_1_preds\")"
      ],
      "metadata": {
        "colab": {
          "base_uri": "https://localhost:8080/",
          "height": 442
        },
        "id": "W6Uj8eFlNuP7",
        "outputId": "c23c1e80-7539-4278-869e-095f4a270798"
      },
      "execution_count": 35,
      "outputs": [
        {
          "output_type": "display_data",
          "data": {
            "text/plain": [
              "<Figure size 720x504 with 1 Axes>"
            ],
            "image/png": "[encoded data removed]"
          },
          "metadata": {
            "needs_background": "light"
          }
        }
      ]
    },
    {
      "cell_type": "markdown",
      "source": [
        "### Висновок\n",
        "При виконанні лабораторної роботи №7 ми виконали передбачення часових рядів за допомогою повнозвʼязної моделі на історичних даних ціни Bitcoin. Однак варто зазначити, що при спробі передбачити ціну цієї валюти в реальному часі варто памʼятати, що ціна валюти не визначається лише історичними даними."
      ],
      "metadata": {
        "id": "pR4XN0OQN7Re"
      }
    }
  ]
}