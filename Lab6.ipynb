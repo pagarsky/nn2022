{
  "cells": [
    {
      "cell_type": "markdown",
      "metadata": {
        "id": "view-in-github",
        "colab_type": "text"
      },
      "source": [
        "<a href=\"https://colab.research.google.com/github/pagarsky/nn2022/blob/master/Lab6.ipynb\" target=\"_parent\"><img src=\"https://colab.research.google.com/assets/colab-badge.svg\" alt=\"Open In Colab\"/></a>"
      ]
    },
    {
      "cell_type": "markdown",
      "metadata": {
        "id": "egerjc4kfBj-"
      },
      "source": [
        "# Лабораторна робота №6\n",
        "#### з дисципліни \"Нейронні мережі\"\n",
        "#### студента групи КН-31/2\n",
        "#### Пагарського Олексія\n",
        "#### Варіант №7"
      ]
    },
    {
      "cell_type": "code",
      "execution_count": null,
      "metadata": {
        "id": "WMev_uzRuBui"
      },
      "outputs": [],
      "source": [
        "N = 7\n",
        "i1, i2, i3 = N - 1, N + 29, N + 59"
      ]
    },
    {
      "cell_type": "code",
      "execution_count": null,
      "metadata": {
        "colab": {
          "base_uri": "https://localhost:8080/"
        },
        "id": "HtA0NV5Ie4F8",
        "outputId": "676fc93b-4de2-4105-9034-0dd670e0a7a8"
      },
      "outputs": [
        {
          "name": "stdout",
          "output_type": "stream",
          "text": [
            "Looking in indexes: https://pypi.org/simple, https://us-python.pkg.dev/colab-wheels/public/simple/\n",
            "Requirement already satisfied: tensorflow_hub in /usr/local/lib/python3.7/dist-packages (0.12.0)\n",
            "Requirement already satisfied: protobuf>=3.8.0 in /usr/local/lib/python3.7/dist-packages (from tensorflow_hub) (3.17.3)\n",
            "Requirement already satisfied: numpy>=1.12.0 in /usr/local/lib/python3.7/dist-packages (from tensorflow_hub) (1.21.6)\n",
            "Requirement already satisfied: six>=1.9 in /usr/local/lib/python3.7/dist-packages (from protobuf>=3.8.0->tensorflow_hub) (1.15.0)\n"
          ]
        }
      ],
      "source": [
        "import random\n",
        "import os\n",
        "import pathlib\n",
        "from distutils.dir_util import copy_tree\n",
        "\n",
        "import numpy as np\n",
        "import tensorflow as tf\n",
        "from tensorflow import keras\n",
        "from tensorflow.keras.preprocessing.image import ImageDataGenerator\n",
        "import matplotlib.pyplot as plt\n",
        "import matplotlib.image as mpimg\n",
        "\n",
        "!pip install tensorflow_hub\n",
        "import tensorflow_hub as hub"
      ]
    },
    {
      "cell_type": "markdown",
      "metadata": {
        "id": "Ki1ZXZVkNwWv"
      },
      "source": [
        "### Виконати вирішення задачі класифікації для 3 класів з набору даних food101 з використанням різних моделей нейронних мереж:\n"
      ]
    },
    {
      "cell_type": "code",
      "execution_count": null,
      "metadata": {
        "id": "sZnqBGzffBdk"
      },
      "outputs": [],
      "source": [
        "!wget http://data.vision.ee.ethz.ch/cvl/food-101.tar.gz\n",
        "\n",
        "!tar xvf food-101.tar.gz"
      ]
    },
    {
      "cell_type": "code",
      "execution_count": null,
      "metadata": {
        "id": "gQOPzTpChHxQ"
      },
      "outputs": [],
      "source": [
        "!ls -la food-101/images\n",
        "\n",
        "classes = []\n",
        "for dirpath, dirnames, filenames in os.walk(\"food-101/images/\"):\n",
        "    print(f\"There are {len(dirnames)} directories and {len(filenames)} images in '{dirpath}'.\")\n",
        "    classes.append(dirpath)"
      ]
    },
    {
      "cell_type": "code",
      "execution_count": null,
      "metadata": {
        "colab": {
          "base_uri": "https://localhost:8080/"
        },
        "id": "bWQYhozLxQPQ",
        "outputId": "758800f5-e393-4c73-9dbe-19b5a78c915a"
      },
      "outputs": [
        {
          "name": "stdout",
          "output_type": "stream",
          "text": [
            "['beef_carpaccio', 'escargots', 'cup_cakes']\n"
          ]
        }
      ],
      "source": [
        "dirs = [\n",
        "    classes[i1],\n",
        "    classes[i2],\n",
        "    classes[i3]\n",
        "]\n",
        "classes = [dir.split('/')[-1] for dir in dirs]\n",
        "print(classes)"
      ]
    },
    {
      "cell_type": "code",
      "execution_count": null,
      "metadata": {
        "id": "ZwoW-1mpyQ-m"
      },
      "outputs": [],
      "source": [
        "for cls in classes:\n",
        "    # print(cls)\n",
        "    for img in os.walk(f'food-101/images/{cls}/'):\n",
        "        copy_tree(f'food-101/images/{cls}', f'./images/{cls}/')"
      ]
    },
    {
      "cell_type": "code",
      "execution_count": null,
      "metadata": {
        "colab": {
          "base_uri": "https://localhost:8080/"
        },
        "id": "UNZM8JHnhSpl",
        "outputId": "58706f0a-b744-4ffb-dbd8-d46a2f98dd24"
      },
      "outputs": [
        {
          "name": "stdout",
          "output_type": "stream",
          "text": [
            "Found 2400 images belonging to 3 classes.\n",
            "Found 600 images belonging to 3 classes.\n"
          ]
        }
      ],
      "source": [
        "train_datagen = ImageDataGenerator(rescale=1./255,\n",
        "                                   width_shift_range=0.2,\n",
        "                                   height_shift_range=0.2,\n",
        "                                   rotation_range=20,\n",
        "                                   zoom_range=0.2,\n",
        "                                   horizontal_flip=True,\n",
        "                                   validation_split=0.2)\n",
        "\n",
        "train_data = train_datagen.flow_from_directory(\n",
        "    './images/',\n",
        "    target_size=(224, 224),\n",
        "    batch_size=32,\n",
        "    class_mode='categorical',\n",
        "    subset='training')\n",
        "\n",
        "val_data = train_datagen.flow_from_directory(\n",
        "    './images/',\n",
        "    target_size=(224, 224),\n",
        "    batch_size=32,\n",
        "    class_mode='categorical',\n",
        "    subset='validation')"
      ]
    },
    {
      "cell_type": "markdown",
      "metadata": {
        "id": "mRooWoHseFaC"
      },
      "source": [
        "### CNN модель"
      ]
    },
    {
      "cell_type": "code",
      "execution_count": null,
      "metadata": {
        "colab": {
          "base_uri": "https://localhost:8080/"
        },
        "id": "P55lvdLSlZSp",
        "outputId": "a2517a02-eea1-4040-f49f-a82d2fac7657"
      },
      "outputs": [
        {
          "name": "stdout",
          "output_type": "stream",
          "text": [
            "Model: \"sequential\"\n",
            "_________________________________________________________________\n",
            " Layer (type)                Output Shape              Param #   \n",
            "=================================================================\n",
            " conv2d (Conv2D)             (None, 222, 222, 20)      560       \n",
            "                                                                 \n",
            " max_pooling2d (MaxPooling2D  (None, 111, 111, 20)     0         \n",
            " )                                                               \n",
            "                                                                 \n",
            " conv2d_1 (Conv2D)           (None, 107, 107, 15)      7515      \n",
            "                                                                 \n",
            " max_pooling2d_1 (MaxPooling  (None, 53, 53, 15)       0         \n",
            " 2D)                                                             \n",
            "                                                                 \n",
            " conv2d_2 (Conv2D)           (None, 47, 47, 10)        7360      \n",
            "                                                                 \n",
            " max_pooling2d_2 (MaxPooling  (None, 23, 23, 10)       0         \n",
            " 2D)                                                             \n",
            "                                                                 \n",
            " flatten (Flatten)           (None, 5290)              0         \n",
            "                                                                 \n",
            " dense (Dense)               (None, 3)                 15873     \n",
            "                                                                 \n",
            "=================================================================\n",
            "Total params: 31,308\n",
            "Trainable params: 31,308\n",
            "Non-trainable params: 0\n",
            "_________________________________________________________________\n"
          ]
        }
      ],
      "source": [
        "model = tf.keras.Sequential([\n",
        "  tf.keras.layers.Conv2D(20, 3, activation='selu', input_shape=(224, 224, 3)),\n",
        "  tf.keras.layers.MaxPool2D(),\n",
        "  tf.keras.layers.Conv2D(15, 5, activation='selu'),\n",
        "  tf.keras.layers.MaxPool2D(),\n",
        "  tf.keras.layers.Conv2D(10, 7, activation='selu'),\n",
        "  tf.keras.layers.MaxPool2D(),\n",
        "\n",
        "  tf.keras.layers.Flatten(),\n",
        "  tf.keras.layers.Dense(3, activation='sigmoid')\n",
        "])\n",
        "\n",
        "model.compile(\n",
        "    loss=\"categorical_crossentropy\",\n",
        "    optimizer=tf.keras.optimizers.Adam(),\n",
        "    metrics=[\"accuracy\"]\n",
        ")\n",
        "\n",
        "model.summary()"
      ]
    },
    {
      "cell_type": "code",
      "execution_count": null,
      "metadata": {
        "colab": {
          "base_uri": "https://localhost:8080/"
        },
        "id": "RcFHVaiZmctf",
        "outputId": "d4a52464-a105-44b2-ec68-056d0e9f65a8"
      },
      "outputs": [
        {
          "name": "stdout",
          "output_type": "stream",
          "text": [
            "Epoch 1/10\n",
            "75/75 [==============================] - 51s 527ms/step - loss: 1.0347 - accuracy: 0.4921 - val_loss: 0.9423 - val_accuracy: 0.5633 - lr: 0.0010\n",
            "Epoch 2/10\n",
            "75/75 [==============================] - 40s 529ms/step - loss: 0.9695 - accuracy: 0.5521 - val_loss: 0.9429 - val_accuracy: 0.5883 - lr: 0.0010\n",
            "Epoch 3/10\n",
            "75/75 [==============================] - 39s 521ms/step - loss: 0.9127 - accuracy: 0.5896 - val_loss: 0.9204 - val_accuracy: 0.5783 - lr: 0.0010\n",
            "Epoch 4/10\n",
            "75/75 [==============================] - 39s 520ms/step - loss: 0.9184 - accuracy: 0.5888 - val_loss: 0.9214 - val_accuracy: 0.5633 - lr: 0.0010\n",
            "Epoch 5/10\n",
            "75/75 [==============================] - 39s 524ms/step - loss: 0.9058 - accuracy: 0.6008 - val_loss: 0.9097 - val_accuracy: 0.5817 - lr: 0.0010\n",
            "Epoch 6/10\n",
            "75/75 [==============================] - 40s 530ms/step - loss: 0.9053 - accuracy: 0.6033 - val_loss: 0.8882 - val_accuracy: 0.6217 - lr: 0.0010\n",
            "Epoch 7/10\n",
            "75/75 [==============================] - 39s 522ms/step - loss: 0.8924 - accuracy: 0.6012 - val_loss: 0.9828 - val_accuracy: 0.5467 - lr: 0.0010\n",
            "Epoch 8/10\n",
            "75/75 [==============================] - 39s 520ms/step - loss: 0.8997 - accuracy: 0.5917 - val_loss: 0.8997 - val_accuracy: 0.5967 - lr: 0.0010\n",
            "Epoch 9/10\n",
            "75/75 [==============================] - ETA: 0s - loss: 0.8862 - accuracy: 0.5962\n",
            "Epoch 9: ReduceLROnPlateau reducing learning rate to 0.00010000000474974513.\n",
            "75/75 [==============================] - 39s 519ms/step - loss: 0.8862 - accuracy: 0.5962 - val_loss: 0.9395 - val_accuracy: 0.5717 - lr: 0.0010\n",
            "Epoch 10/10\n",
            "75/75 [==============================] - 39s 523ms/step - loss: 0.8441 - accuracy: 0.6379 - val_loss: 0.8745 - val_accuracy: 0.6267 - lr: 1.0000e-04\n",
            "\n",
            "\n",
            "\n",
            "\n",
            "\n",
            "\n",
            "19/19 [==============================] - 8s 405ms/step - loss: 0.8722 - accuracy: 0.6467\n",
            "loss: 0.8721663355827332\n",
            "accuracy: 0.6466666460037231\n"
          ]
        }
      ],
      "source": [
        "callbacks = [\n",
        "    tf.keras.callbacks.ReduceLROnPlateau(patience=3, verbose=True),\n",
        "    tf.keras.callbacks.EarlyStopping(patience=5, restore_best_weights=True),\n",
        "]\n",
        "\n",
        "history = model.fit(\n",
        "    train_data,\n",
        "    epochs=10,\n",
        "    batch_size=64,\n",
        "    steps_per_epoch=len(train_data),\n",
        "    validation_data=val_data,\n",
        "    validation_steps=len(val_data),\n",
        "    callbacks=callbacks,\n",
        ")\n",
        "\n",
        "print('\\n'*5)\n",
        "loss, accuracy = model.evaluate(val_data)\n",
        "print(f'loss: {loss}\\naccuracy: {accuracy}')"
      ]
    },
    {
      "cell_type": "markdown",
      "metadata": {
        "id": "5u3KGUATgHqe"
      },
      "source": [
        "### Resnet модель"
      ]
    },
    {
      "cell_type": "code",
      "execution_count": null,
      "metadata": {
        "colab": {
          "base_uri": "https://localhost:8080/"
        },
        "id": "IrHkAx1XgLvR",
        "outputId": "68903c38-6c93-4509-a06a-c773385a4341"
      },
      "outputs": [
        {
          "name": "stdout",
          "output_type": "stream",
          "text": [
            "Model: \"sequential_1\"\n",
            "_________________________________________________________________\n",
            " Layer (type)                Output Shape              Param #   \n",
            "=================================================================\n",
            " keras_layer (KerasLayer)    (None, 2048)              42605504  \n",
            "                                                                 \n",
            " dense_1 (Dense)             (None, 10)                20490     \n",
            "                                                                 \n",
            " dense_2 (Dense)             (None, 3)                 33        \n",
            "                                                                 \n",
            "=================================================================\n",
            "Total params: 42,626,027\n",
            "Trainable params: 20,523\n",
            "Non-trainable params: 42,605,504\n",
            "_________________________________________________________________\n"
          ]
        }
      ],
      "source": [
        "resnet = tf.keras.Sequential([\n",
        "    hub.KerasLayer(\"https://tfhub.dev/google/imagenet/resnet_v1_101/feature_vector/5\",\n",
        "                   trainable=False),\n",
        "\n",
        "    tf.keras.layers.Dense(10, activation=\"selu\"),\n",
        "    tf.keras.layers.Dense(3, activation=\"sigmoid\"),\n",
        "])\n",
        "resnet.build([None, 224, 224, 3])  # Batch input shape.\n",
        "\n",
        "resnet.compile(\n",
        "    loss=\"categorical_crossentropy\",\n",
        "    optimizer=tf.keras.optimizers.Adam(),\n",
        "    metrics=[\"accuracy\"]\n",
        ")\n",
        "\n",
        "resnet.summary()"
      ]
    },
    {
      "cell_type": "code",
      "execution_count": null,
      "metadata": {
        "colab": {
          "background_save": true,
          "base_uri": "https://localhost:8080/"
        },
        "id": "dEqwn-ideaPU",
        "outputId": "5fe3511f-fe9f-4edb-a7a6-3154e41b9b44"
      },
      "outputs": [
        {
          "name": "stdout",
          "output_type": "stream",
          "text": [
            "Epoch 1/10\n",
            "75/75 [==============================] - 53s 602ms/step - loss: 0.3516 - accuracy: 0.8746 - val_loss: 0.1808 - val_accuracy: 0.9433 - lr: 0.0010\n",
            "Epoch 2/10\n",
            "75/75 [==============================] - 43s 574ms/step - loss: 0.1665 - accuracy: 0.9429 - val_loss: 0.1515 - val_accuracy: 0.9367 - lr: 0.0010\n",
            "Epoch 3/10\n",
            "75/75 [==============================] - 43s 578ms/step - loss: 0.1394 - accuracy: 0.9492 - val_loss: 0.1361 - val_accuracy: 0.9450 - lr: 0.0010\n",
            "Epoch 4/10\n",
            "75/75 [==============================] - 43s 572ms/step - loss: 0.1103 - accuracy: 0.9613 - val_loss: 0.1365 - val_accuracy: 0.9533 - lr: 0.0010\n",
            "Epoch 5/10\n",
            "75/75 [==============================] - 43s 572ms/step - loss: 0.0954 - accuracy: 0.9663 - val_loss: 0.1451 - val_accuracy: 0.9500 - lr: 0.0010\n",
            "Epoch 6/10\n",
            "75/75 [==============================] - ETA: 0s - loss: 0.0896 - accuracy: 0.9671\n",
            "Epoch 6: ReduceLROnPlateau reducing learning rate to 0.00010000000474974513.\n",
            "75/75 [==============================] - 43s 570ms/step - loss: 0.0896 - accuracy: 0.9671 - val_loss: 0.1409 - val_accuracy: 0.9517 - lr: 0.0010\n",
            "Epoch 7/10\n",
            "75/75 [==============================] - 43s 570ms/step - loss: 0.0649 - accuracy: 0.9771 - val_loss: 0.1521 - val_accuracy: 0.9417 - lr: 1.0000e-04\n",
            "Epoch 8/10\n",
            "75/75 [==============================] - 43s 570ms/step - loss: 0.0667 - accuracy: 0.9783 - val_loss: 0.1281 - val_accuracy: 0.9567 - lr: 1.0000e-04\n",
            "Epoch 9/10\n",
            "75/75 [==============================] - 43s 568ms/step - loss: 0.0605 - accuracy: 0.9817 - val_loss: 0.1284 - val_accuracy: 0.9483 - lr: 1.0000e-04\n",
            "Epoch 10/10\n",
            "75/75 [==============================] - 43s 573ms/step - loss: 0.0609 - accuracy: 0.9779 - val_loss: 0.1140 - val_accuracy: 0.9533 - lr: 1.0000e-04\n",
            "\n",
            "\n",
            "\n",
            "\n",
            "\n",
            "\n",
            "19/19 [==============================] - 9s 449ms/step - loss: 0.1146 - accuracy: 0.9500\n",
            "loss: 0.11461436003446579\n",
            "accuracy: 0.949999988079071\n"
          ]
        }
      ],
      "source": [
        "history = resnet.fit(\n",
        "    train_data,\n",
        "    epochs=10,\n",
        "    batch_size=64,\n",
        "    steps_per_epoch=len(train_data),\n",
        "    validation_data=val_data,\n",
        "    validation_steps=len(val_data),\n",
        "    callbacks=callbacks,\n",
        ")\n",
        "\n",
        "print('\\n'*5)\n",
        "loss, accuracy = resnet.evaluate(val_data)\n",
        "print(f'loss: {loss}\\naccuracy: {accuracy}')"
      ]
    },
    {
      "cell_type": "markdown",
      "metadata": {
        "id": "hyvfMK-n6Qwa"
      },
      "source": [
        "### Efficientnet модель"
      ]
    },
    {
      "cell_type": "code",
      "execution_count": 15,
      "metadata": {
        "colab": {
          "base_uri": "https://localhost:8080/"
        },
        "id": "wj-E_ha36Uuu",
        "outputId": "bce03d2d-f509-4567-b1d6-90ba9e537b51"
      },
      "outputs": [
        {
          "output_type": "stream",
          "name": "stdout",
          "text": [
            "Model: \"sequential_3\"\n",
            "_________________________________________________________________\n",
            " Layer (type)                Output Shape              Param #   \n",
            "=================================================================\n",
            " keras_layer_2 (KerasLayer)  (None, 1280)              4049564   \n",
            "                                                                 \n",
            " dense_5 (Dense)             (None, 10)                12810     \n",
            "                                                                 \n",
            " dense_6 (Dense)             (None, 3)                 33        \n",
            "                                                                 \n",
            "=================================================================\n",
            "Total params: 4,062,407\n",
            "Trainable params: 12,843\n",
            "Non-trainable params: 4,049,564\n",
            "_________________________________________________________________\n"
          ]
        }
      ],
      "source": [
        "efficientnet = tf.keras.Sequential([\n",
        "    hub.KerasLayer(\"https://tfhub.dev/tensorflow/efficientnet/b0/feature-vector/1\",\n",
        "                   trainable=False),\n",
        "                   \n",
        "    tf.keras.layers.Dense(10, activation=\"selu\"),\n",
        "    tf.keras.layers.Dense(3, activation=\"sigmoid\"),\n",
        "])\n",
        "efficientnet.build([None, 224, 224, 3])  # Batch input shape.\n",
        "\n",
        "efficientnet.compile(\n",
        "    loss=\"categorical_crossentropy\",\n",
        "    optimizer=tf.keras.optimizers.Adam(),\n",
        "    metrics=[\"accuracy\"]\n",
        ")\n",
        "\n",
        "efficientnet.summary()"
      ]
    },
    {
      "cell_type": "code",
      "execution_count": 16,
      "metadata": {
        "id": "HiafHAf-6dMx",
        "colab": {
          "base_uri": "https://localhost:8080/"
        },
        "outputId": "7b6f6a3e-027b-40b2-d9d1-109c270a1f33"
      },
      "outputs": [
        {
          "output_type": "stream",
          "name": "stdout",
          "text": [
            "Epoch 1/10\n",
            "75/75 [==============================] - 51s 583ms/step - loss: 0.2856 - accuracy: 0.9067 - val_loss: 0.1253 - val_accuracy: 0.9650 - lr: 0.0010\n",
            "Epoch 2/10\n",
            "75/75 [==============================] - 43s 570ms/step - loss: 0.1023 - accuracy: 0.9683 - val_loss: 0.1055 - val_accuracy: 0.9600 - lr: 0.0010\n",
            "Epoch 3/10\n",
            "75/75 [==============================] - 43s 575ms/step - loss: 0.0769 - accuracy: 0.9792 - val_loss: 0.0964 - val_accuracy: 0.9717 - lr: 0.0010\n",
            "Epoch 4/10\n",
            "75/75 [==============================] - 41s 550ms/step - loss: 0.0581 - accuracy: 0.9829 - val_loss: 0.0998 - val_accuracy: 0.9650 - lr: 0.0010\n",
            "Epoch 5/10\n",
            "75/75 [==============================] - 41s 552ms/step - loss: 0.0536 - accuracy: 0.9817 - val_loss: 0.0982 - val_accuracy: 0.9683 - lr: 0.0010\n",
            "Epoch 6/10\n",
            "75/75 [==============================] - 41s 550ms/step - loss: 0.0427 - accuracy: 0.9846 - val_loss: 0.0937 - val_accuracy: 0.9683 - lr: 0.0010\n",
            "Epoch 7/10\n",
            "75/75 [==============================] - 41s 552ms/step - loss: 0.0363 - accuracy: 0.9896 - val_loss: 0.0868 - val_accuracy: 0.9667 - lr: 0.0010\n",
            "Epoch 8/10\n",
            "75/75 [==============================] - 41s 549ms/step - loss: 0.0307 - accuracy: 0.9896 - val_loss: 0.1033 - val_accuracy: 0.9633 - lr: 0.0010\n",
            "Epoch 9/10\n",
            "75/75 [==============================] - 41s 546ms/step - loss: 0.0255 - accuracy: 0.9946 - val_loss: 0.0981 - val_accuracy: 0.9683 - lr: 0.0010\n",
            "Epoch 10/10\n",
            "75/75 [==============================] - ETA: 0s - loss: 0.0268 - accuracy: 0.9912\n",
            "Epoch 10: ReduceLROnPlateau reducing learning rate to 0.00010000000474974513.\n",
            "75/75 [==============================] - 41s 544ms/step - loss: 0.0268 - accuracy: 0.9912 - val_loss: 0.0943 - val_accuracy: 0.9650 - lr: 0.0010\n",
            "\n",
            "\n",
            "\n",
            "\n",
            "\n",
            "\n",
            "19/19 [==============================] - 8s 429ms/step - loss: 0.0989 - accuracy: 0.9667\n",
            "loss: 0.09893754124641418\n",
            "accuracy: 0.9666666388511658\n"
          ]
        }
      ],
      "source": [
        "callbacks = [\n",
        "    tf.keras.callbacks.ReduceLROnPlateau(patience=3, verbose=True),\n",
        "    tf.keras.callbacks.EarlyStopping(patience=5, restore_best_weights=True),\n",
        "]\n",
        "\n",
        "history = efficientnet.fit(\n",
        "    train_data,\n",
        "    epochs=10,\n",
        "    batch_size=64,\n",
        "    steps_per_epoch=len(train_data),\n",
        "    validation_data=val_data,\n",
        "    validation_steps=len(val_data),\n",
        "    callbacks=callbacks,\n",
        ")\n",
        "\n",
        "print('\\n'*5)\n",
        "loss, accuracy = efficientnet.evaluate(val_data)\n",
        "print(f'loss: {loss}\\naccuracy: {accuracy}')"
      ]
    },
    {
      "cell_type": "markdown",
      "metadata": {
        "id": "bjFDBxANq1QG"
      },
      "source": [
        "### Висновок\n",
        "\n",
        "При виконанні Лабораторної роботи 6, ми підготували тренувальний та валідаційний датасети для класифікації їжі за обраними варіантами.\n",
        "\n",
        "Застосували згорткові нейронні мережі для класифікації зображень з ЛР5. Також обрали претреновані моделі ResNet і EffecientNet, які були підготовані на датасеті ImageNet. В верхніх шарах цих моделей було відключено тренування і треновані лише останні два повнозв'язних шари.\n",
        "\n",
        "- CNN ~65%\n",
        "- ResNet ~95%\n",
        "- EfficientNet ~96.7%"
      ]
    }
  ],
  "metadata": {
    "accelerator": "GPU",
    "colab": {
      "collapsed_sections": [],
      "name": "Lab6_NN",
      "provenance": [],
      "include_colab_link": true
    },
    "kernelspec": {
      "display_name": "Python 3",
      "name": "python3"
    },
    "language_info": {
      "name": "python"
    }
  },
  "nbformat": 4,
  "nbformat_minor": 0
}