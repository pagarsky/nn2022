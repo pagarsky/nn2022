{
  "nbformat": 4,
  "nbformat_minor": 0,
  "metadata": {
    "colab": {
      "name": "Lab2.ipynb",
      "provenance": [],
      "authorship_tag": "ABX9TyOy/311DVIb8U23eseWNFrT",
      "include_colab_link": true
    },
    "kernelspec": {
      "name": "python3",
      "display_name": "Python 3"
    },
    "language_info": {
      "name": "python"
    }
  },
  "cells": [
    {
      "cell_type": "markdown",
      "metadata": {
        "id": "view-in-github",
        "colab_type": "text"
      },
      "source": [
        "<a href=\"https://colab.research.google.com/github/pagarsky/nn2022/blob/master/Lab2.ipynb\" target=\"_parent\"><img src=\"https://colab.research.google.com/assets/colab-badge.svg\" alt=\"Open In Colab\"/></a>"
      ]
    },
    {
      "cell_type": "markdown",
      "source": [
        "## Лабораторна робота №2\n",
        "### з дисципліни \"Нейронні мережі\"\n",
        "### студента групи КН-31/2\n",
        "### Пагарського Олексія\n",
        "#### Варіант №7"
      ],
      "metadata": {
        "id": "BIXbEX11vfOy"
      }
    },
    {
      "cell_type": "code",
      "source": [
        "import numpy as np\n",
        "import pandas as pd\n",
        "\n",
        "import matplotlib.pyplot as plt\n",
        "import tensorflow as tf\n",
        "from sklearn import datasets as ds\n",
        "\n",
        "from google.colab import drive"
      ],
      "metadata": {
        "id": "dGUTXHXYvg4s"
      },
      "execution_count": null,
      "outputs": []
    },
    {
      "cell_type": "markdown",
      "source": [
        "### За матеріалами [2] ознайомитись із засадами бібліотеки TensorFlow:\n",
        "- засвоєння поняття тензору\n",
        "- знати різні способи створення тензорів\n",
        "- створити набір даних із заданим розподілом (розподіл та розмір за власним рішенням), визначити його властивості (shape, rank, size, axis)\n",
        "- продемонструвати основні математичні операції над тензорами\n",
        "- провести CRUD операції над даними, reshape, інтеграцію з np.array, pd.DataFrame)\n"
      ],
      "metadata": {
        "id": "IFoLdJs8zd6q"
      }
    },
    {
      "cell_type": "code",
      "source": [
        "c = tf.constant([[1.0, 2.0],\n",
        "                 [3.0, 4.0]])\n",
        "d = tf.constant([[1.0, 2.0],\n",
        "                 [3.0, 4.0]])\n",
        "print(tf.matmul(c, d))\n",
        "print(tf.Variable([10, 7]))"
      ],
      "metadata": {
        "colab": {
          "base_uri": "https://localhost:8080/"
        },
        "id": "hC2KOnyqzh6Z",
        "outputId": "b89c386d-52ca-421b-9930-7e8dd04359ec"
      },
      "execution_count": null,
      "outputs": [
        {
          "output_type": "stream",
          "name": "stdout",
          "text": [
            "tf.Tensor(\n",
            "[[ 7. 10.]\n",
            " [15. 22.]], shape=(2, 2), dtype=float32)\n",
            "<tf.Variable 'Variable:0' shape=(2,) dtype=int32, numpy=array([10,  7], dtype=int32)>\n"
          ]
        }
      ]
    },
    {
      "cell_type": "code",
      "source": [
        "r = tf.random.Generator.from_seed(42).normal(shape=(3, 2))\n",
        "r"
      ],
      "metadata": {
        "colab": {
          "base_uri": "https://localhost:8080/"
        },
        "id": "eYyOIqGM1I7d",
        "outputId": "0c43a7d2-4f6c-4692-d8ed-719db1a17b69"
      },
      "execution_count": null,
      "outputs": [
        {
          "output_type": "execute_result",
          "data": {
            "text/plain": [
              "<tf.Tensor: shape=(3, 2), dtype=float32, numpy=\n",
              "array([[-0.7565803 , -0.06854702],\n",
              "       [ 0.07595026, -1.2573844 ],\n",
              "       [-0.23193763, -1.8107855 ]], dtype=float32)>"
            ]
          },
          "metadata": {},
          "execution_count": 14
        }
      ]
    },
    {
      "cell_type": "code",
      "source": [
        "print(r.shape, r.ndim, tf.size(r))"
      ],
      "metadata": {
        "colab": {
          "base_uri": "https://localhost:8080/"
        },
        "id": "TOOVaixx9F1l",
        "outputId": "a7199c8a-0846-4bf3-9fe6-b3e6db5821cf"
      },
      "execution_count": null,
      "outputs": [
        {
          "output_type": "stream",
          "name": "stdout",
          "text": [
            "(3, 2) 2 tf.Tensor(6, shape=(), dtype=int32)\n"
          ]
        }
      ]
    },
    {
      "cell_type": "code",
      "source": [
        "print(r[:, 1])"
      ],
      "metadata": {
        "colab": {
          "base_uri": "https://localhost:8080/"
        },
        "id": "GvMnIdB-_4aS",
        "outputId": "d34d887f-9766-47f4-deb3-8936335b4d28"
      },
      "execution_count": null,
      "outputs": [
        {
          "output_type": "stream",
          "name": "stdout",
          "text": [
            "tf.Tensor([-0.06854702 -1.2573844  -1.8107855 ], shape=(3,), dtype=float32)\n"
          ]
        }
      ]
    },
    {
      "cell_type": "code",
      "source": [
        "print(\n",
        "    r + 10,\n",
        "    r * 10,\n",
        "    tf.matmul(r, tf.zeros([2, 3])),\n",
        "    r @ tf.zeros([2, 3])\n",
        ")"
      ],
      "metadata": {
        "colab": {
          "base_uri": "https://localhost:8080/"
        },
        "id": "NJWTUwQt__rS",
        "outputId": "c2cf6423-6810-4ab7-9134-b1da5ee2579f"
      },
      "execution_count": null,
      "outputs": [
        {
          "output_type": "stream",
          "name": "stdout",
          "text": [
            "tf.Tensor(\n",
            "[[ 9.24342   9.931453]\n",
            " [10.075951  8.742616]\n",
            " [ 9.768063  8.189215]], shape=(3, 2), dtype=float32) tf.Tensor(\n",
            "[[ -7.565803    -0.68547016]\n",
            " [  0.7595026  -12.573844  ]\n",
            " [ -2.3193762  -18.107855  ]], shape=(3, 2), dtype=float32) tf.Tensor(\n",
            "[[0. 0. 0.]\n",
            " [0. 0. 0.]\n",
            " [0. 0. 0.]], shape=(3, 3), dtype=float32) tf.Tensor(\n",
            "[[0. 0. 0.]\n",
            " [0. 0. 0.]\n",
            " [0. 0. 0.]], shape=(3, 3), dtype=float32)\n"
          ]
        }
      ]
    },
    {
      "cell_type": "code",
      "source": [
        "tf.reshape(r, [1, 6])"
      ],
      "metadata": {
        "colab": {
          "base_uri": "https://localhost:8080/"
        },
        "id": "h7LOLntiAXTk",
        "outputId": "636fb81a-17e5-4288-8404-4655cb489c59"
      },
      "execution_count": null,
      "outputs": [
        {
          "output_type": "execute_result",
          "data": {
            "text/plain": [
              "<tf.Tensor: shape=(1, 6), dtype=float32, numpy=\n",
              "array([[-0.7565803 , -0.06854702,  0.07595026, -1.2573844 , -0.23193763,\n",
              "        -1.8107855 ]], dtype=float32)>"
            ]
          },
          "metadata": {},
          "execution_count": 22
        }
      ]
    },
    {
      "cell_type": "markdown",
      "source": [
        "### 🛠 Упражнения"
      ],
      "metadata": {
        "id": "MEjdIp0cCIcU"
      }
    },
    {
      "cell_type": "markdown",
      "source": [
        "#### Создайте вектор, скаляр, матрицу и тензор со значениями по вашему выбору, используя tf.constant()."
      ],
      "metadata": {
        "id": "1h0kvbYeCic-"
      }
    },
    {
      "cell_type": "code",
      "source": [
        "scalar = tf.constant(1)\n",
        "vector = tf.constant([1, 2, 3])\n",
        "matrix = tf.constant([[1, 2, 3], [3, 2, 1]])\n",
        "tensor = tf.constant([[[1, 1]],\n",
        "                      [[1, 1]],\n",
        "                      [[1, 1]]])"
      ],
      "metadata": {
        "id": "D2NRimSuCJ4n"
      },
      "execution_count": null,
      "outputs": []
    },
    {
      "cell_type": "markdown",
      "source": [
        "#### Найдите форму, ранг и размер тензоров, которые вы создали в 1."
      ],
      "metadata": {
        "id": "jXPeObg9C62d"
      }
    },
    {
      "cell_type": "code",
      "source": [
        "print(scalar.shape, scalar.ndim, tf.size(scalar))\n",
        "print(vector.shape, vector.ndim, tf.size(vector))\n",
        "print(matrix.shape, matrix.ndim, tf.size(matrix))\n",
        "print(tensor.shape, tensor.ndim, tf.size(tensor))"
      ],
      "metadata": {
        "colab": {
          "base_uri": "https://localhost:8080/"
        },
        "id": "cbp4Kc3iC8EE",
        "outputId": "f66eab8b-da42-488d-9a26-335c2ff3cbc6"
      },
      "execution_count": null,
      "outputs": [
        {
          "output_type": "stream",
          "name": "stdout",
          "text": [
            "() 0 tf.Tensor(1, shape=(), dtype=int32)\n",
            "(3,) 1 tf.Tensor(3, shape=(), dtype=int32)\n",
            "(2, 3) 2 tf.Tensor(6, shape=(), dtype=int32)\n",
            "(3, 1, 2) 3 tf.Tensor(6, shape=(), dtype=int32)\n"
          ]
        }
      ]
    },
    {
      "cell_type": "markdown",
      "source": [
        "#### Создайте два тензора, содержащие случайные значения между 0 и 1 с shape [5, 300].\n",
        "#### Умножьте два тензора, которые вы создали в 3, используя матричное умножение.\n",
        "#### Умножьте два тензора, которые вы создали в 3, используя скалярное произведение.\n"
      ],
      "metadata": {
        "id": "YZli6-F-DJ1W"
      }
    },
    {
      "cell_type": "code",
      "source": [
        "a = tf.random.normal(shape=[5, 300])\n",
        "b = tf.random.normal(shape=[5, 300])\n",
        "\n",
        "print(a @ tf.transpose(b))\n",
        "print(a * b)"
      ],
      "metadata": {
        "colab": {
          "base_uri": "https://localhost:8080/"
        },
        "id": "pJsxLi1wCOF2",
        "outputId": "ce0b1720-a27e-4798-ebe1-dfd3bdb6f9a8"
      },
      "execution_count": null,
      "outputs": [
        {
          "output_type": "stream",
          "name": "stdout",
          "text": [
            "tf.Tensor(\n",
            "[[  0.8935814  21.7817    -23.67244   -12.153208   13.83876  ]\n",
            " [ 24.873507  -18.080126   11.683866  -13.786795    4.990341 ]\n",
            " [ 23.2695     27.305506  -14.486826    1.8113613  17.878836 ]\n",
            " [ 20.9744     22.129208  -12.139207  -14.320183    1.7330227]\n",
            " [-37.995804  -23.505503  -17.34692   -13.403022  -21.200909 ]], shape=(5, 5), dtype=float32)\n",
            "tf.Tensor(\n",
            "[[ 1.2200252e-01  1.8741040e-03 -5.2181333e-01 ...  5.6880790e-01\n",
            "  -5.8390725e-01 -1.5962036e-01]\n",
            " [ 5.6254469e-02 -9.1312461e-02  2.0329783e+00 ... -2.3435531e-02\n",
            "  -1.6131230e-01  9.7783215e-02]\n",
            " [-1.6470024e-02  3.1697876e+00  2.6228487e-01 ...  6.0709023e-01\n",
            "   1.3724351e+00 -4.2932967e-04]\n",
            " [-5.2056085e-02 -1.7219387e+00  4.6748048e-01 ... -2.6400718e-03\n",
            "  -1.8601693e-01  3.8730425e-01]\n",
            " [ 3.1866452e-01 -3.3497453e-01 -3.0042908e-01 ...  3.5969648e-01\n",
            "  -5.1179659e-01 -1.8890382e-01]], shape=(5, 300), dtype=float32)\n"
          ]
        }
      ]
    },
    {
      "cell_type": "markdown",
      "source": [
        "#### Создайте тензор со случайными значениями между 0 и 1 с помощью shape [224, 224, 3].\n",
        "#### Найдите минимальное и максимальное значения тензора, который вы создали в 6.\n",
        "#### Создал тензор со случайными значениями формы, [1, 224, 224, 3]затем сжал его, чтобы изменить форму на [224, 224, 3]."
      ],
      "metadata": {
        "id": "eYIhX11mDhxD"
      }
    },
    {
      "cell_type": "code",
      "source": [
        "rand = tf.random.normal(shape=[224, 224, 3])\n",
        "tf.reduce_max(rand)\n",
        "tf.reduce_min(rand)\n",
        "\n",
        "n = tf.random.normal(shape=[1, 224, 224, 3])\n",
        "print(tf.squeeze(n).shape)"
      ],
      "metadata": {
        "colab": {
          "base_uri": "https://localhost:8080/"
        },
        "id": "nRUceIMzCW9k",
        "outputId": "6b866274-2177-4410-9b77-d6c975203dd6"
      },
      "execution_count": null,
      "outputs": [
        {
          "output_type": "stream",
          "name": "stdout",
          "text": [
            "(224, 224, 3)\n"
          ]
        }
      ]
    },
    {
      "cell_type": "markdown",
      "source": [
        "#### Горячее кодирование тензора, созданного в 9."
      ],
      "metadata": {
        "id": "AhC8FGQXEW8I"
      }
    },
    {
      "cell_type": "code",
      "source": [
        "categories = [0, 1, 2, 3]\n",
        "tf.one_hot(categories, depth=4)"
      ],
      "metadata": {
        "colab": {
          "base_uri": "https://localhost:8080/"
        },
        "id": "01jcUOO8EMo5",
        "outputId": "5d2d9ec8-67fb-4325-aed7-1748f50cbefb"
      },
      "execution_count": null,
      "outputs": [
        {
          "output_type": "execute_result",
          "data": {
            "text/plain": [
              "<tf.Tensor: shape=(4, 4), dtype=float32, numpy=\n",
              "array([[1., 0., 0., 0.],\n",
              "       [0., 1., 0., 0.],\n",
              "       [0., 0., 1., 0.],\n",
              "       [0., 0., 0., 1.]], dtype=float32)>"
            ]
          },
          "metadata": {},
          "execution_count": 40
        }
      ]
    },
    {
      "cell_type": "markdown",
      "source": [
        "### Висновок\n",
        "В результаті виконання лабораторної роботи ми ознайомилися з структурою даних Тензор, навчилися створювати, модифікувати та працювати з ними."
      ],
      "metadata": {
        "id": "Fxz3AeIbEkCK"
      }
    }
  ]
}