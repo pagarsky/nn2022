{
  "nbformat": 4,
  "nbformat_minor": 0,
  "metadata": {
    "colab": {
      "name": "Lab3.ipynb",
      "provenance": [],
      "collapsed_sections": [],
      "include_colab_link": true
    },
    "kernelspec": {
      "name": "python3",
      "display_name": "Python 3"
    },
    "language_info": {
      "name": "python"
    }
  },
  "cells": [
    {
      "cell_type": "markdown",
      "metadata": {
        "id": "view-in-github",
        "colab_type": "text"
      },
      "source": [
        "<a href=\"https://colab.research.google.com/github/pagarsky/nn2022/blob/master/Lab3.ipynb\" target=\"_parent\"><img src=\"https://colab.research.google.com/assets/colab-badge.svg\" alt=\"Open In Colab\"/></a>"
      ]
    },
    {
      "cell_type": "markdown",
      "source": [
        "## Лабораторна робота №3\n",
        "## з дисципліни \"Нейронні мережі\"\n",
        "### студента групи КН-31/2\n",
        "### Пагарського Олексія\n",
        "#### Варіант №7"
      ],
      "metadata": {
        "id": "aMwbZc04B4zK"
      }
    },
    {
      "cell_type": "markdown",
      "source": [
        "### З використанням бібліотеки Sklearn вирішити задачу регресії \n",
        "- Поглиблено вивчити функцію make_regression.\n",
        "- Згенерувати набір даних за допомогою означеної функції, з використанням якнайбільшої кількості параметрів. \n",
        "- Розмірність набору даних прийняти у вигляді (100000х(30-n)), де n - номер за списком.\n",
        "- Здійснити моделювання згенерованого набору даних та візуалізацію результатів.\n",
        "\n",
        "Надати значення метрик якості, приклад прогнозування\n"
      ],
      "metadata": {
        "id": "9iX2PdFEDUwK"
      }
    },
    {
      "cell_type": "code",
      "execution_count": null,
      "metadata": {
        "id": "JF02PJEQB0kY"
      },
      "outputs": [],
      "source": [
        "import sklearn\n",
        "import numpy as np\n",
        "\n",
        "from sklearn.datasets import make_regression\n",
        "from sklearn.linear_model import LinearRegression\n",
        "from sklearn import metrics"
      ]
    },
    {
      "cell_type": "code",
      "source": [
        "data = make_regression(n_samples=10**5, n_features=23, n_informative=25, noise=1, coef=True)\n",
        "X, y, coef = data\n",
        "\n",
        "print(f'\\nX samples:\\n{X[:3]}')\n",
        "print(f'\\ny samples:\\n{y[:3]}')\n",
        "print(f'\\nRegression coefs: {coef}')"
      ],
      "metadata": {
        "colab": {
          "base_uri": "https://localhost:8080/"
        },
        "id": "Ig_9T-K4DUgw",
        "outputId": "ec428e5d-4b6e-4575-b532-c4158fbc156d"
      },
      "execution_count": null,
      "outputs": [
        {
          "output_type": "stream",
          "name": "stdout",
          "text": [
            "\n",
            "X samples:\n",
            "[[-2.41999753  0.68960895  1.08455229 -0.37852186 -0.24889464  0.47145097\n",
            "  -0.79434333  0.2374934   0.389993    1.44394365  1.44823077  0.86172399\n",
            "   0.95170471  1.75920035 -0.83721202  0.77667674 -0.31114458  0.85168373\n",
            "   0.57569088  1.41308982 -0.14752572 -0.74040328  0.90268798]\n",
            " [ 1.19323889 -1.51252998  0.77849617 -0.20183529 -0.86862506 -0.84752233\n",
            "   0.66207517 -0.68501956  1.07919602 -0.85334296 -0.93150256  1.32963666\n",
            "   0.03918876 -0.04606894  0.23513305  0.05525943  0.52996937 -1.14191658\n",
            "  -1.45760058 -1.06340944 -0.56899185  0.17092861  0.37551808]\n",
            " [ 0.55297967 -1.22960331 -1.2543053   0.80325544 -2.40558     0.34474784\n",
            "  -0.74210504 -0.09040846  0.86211624 -1.31975197 -0.25083346 -0.19228263\n",
            "  -1.35136455  1.40742094  2.10514805 -0.6694236   1.42145497  0.82671773\n",
            "  -1.00339915  0.71619034 -0.25088419  1.43781315  0.16018777]]\n",
            "\n",
            "y samples:\n",
            "[385.20951026 -45.36735324  66.67573204]\n",
            "\n",
            "Regression coefs: [23.9223098  31.516089   31.97020057  1.87922729 14.03990062 48.30210055\n",
            " 39.18814658  1.01909302 69.47276553 16.99915174 95.90597141 57.91852486\n",
            " 86.00029755  1.39455561 97.199974   63.48743403 33.76851585 10.03853345\n",
            "  3.00929786 80.68214325 42.4119176  17.10686611 11.8991907 ]\n"
          ]
        }
      ]
    },
    {
      "cell_type": "code",
      "source": [
        "model = LinearRegression()\n",
        "ntest = 4\n",
        "\n",
        "model.fit(X[:-ntest], y[:-ntest])\n",
        "target = y[-ntest:]\n",
        "predictions = model.predict(X[-ntest:])\n",
        "\n",
        "print(f'Target: {target}')\n",
        "print(f'Predicted: {predictions}')\n",
        "print(f'Difference: {target - predictions}')\n",
        "print('Mean Absolute Error:', metrics.mean_absolute_error(target, predictions))\n",
        "print('Mean Squared Error:', metrics.mean_squared_error(target, predictions))\n",
        "print('Root Mean Squared Error:', np.sqrt(metrics.mean_squared_error(target, predictions)))"
      ],
      "metadata": {
        "colab": {
          "base_uri": "https://localhost:8080/"
        },
        "id": "etIX2nTWC4fm",
        "outputId": "ed8a256a-1539-47a2-e2ac-0c49177e7a97"
      },
      "execution_count": null,
      "outputs": [
        {
          "output_type": "stream",
          "name": "stdout",
          "text": [
            "Target: [ -30.73989909  -82.01590244  405.60710157 -134.7167711 ]\n",
            "Predicted: [ -30.97603547  -81.28583327  405.01905512 -135.10833936]\n",
            "Difference: [ 0.23613638 -0.73006918  0.58804645  0.39156826]\n",
            "Mean Absolute Error: 0.48645506655732085\n",
            "Mean Squared Error: 0.2719714303155057\n",
            "Root Mean Squared Error: 0.5215088017622576\n"
          ]
        }
      ]
    },
    {
      "cell_type": "markdown",
      "source": [
        "## Висновок\n",
        "\n",
        "При виконанні Лабораторної роботи 3, я згенерував лінійний датасет на 23 параметра із однією цільовою змінною. За допомогою лінійної регресії, модель може виконувати наближення на нових даних.\n",
        "\n"
      ],
      "metadata": {
        "id": "Hp_Jo1C4EocW"
      }
    }
  ]
}